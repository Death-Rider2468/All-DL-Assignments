{
  "nbformat": 4,
  "nbformat_minor": 0,
  "metadata": {
    "colab": {
      "provenance": [],
      "gpuType": "T4"
    },
    "kernelspec": {
      "name": "python3",
      "display_name": "Python 3"
    },
    "language_info": {
      "name": "python"
    },
    "accelerator": "GPU"
  },
  "cells": [
    {
      "cell_type": "code",
      "execution_count": 7,
      "metadata": {
        "id": "APiViPI_y4mT"
      },
      "outputs": [],
      "source": [
        "#!pip install pandas numpy tensorflow keras\n",
        "#!pip install --upgrade pandas\n",
        "import pandas as pd\n",
        "import numpy as np\n",
        "import tensorflow as tf\n",
        "from tensorflow.keras.preprocessing.text import Tokenizer\n",
        "from tensorflow.keras.preprocessing.sequence import pad_sequences\n",
        "\n",
        "# Load datasets\n",
        "#Updated to try except block to handle older version of pandas\n",
        "try:\n",
        "    train_df = pd.read_csv('/content/train.csv', quoting=pd.QUOTE_NONNUMERIC, on_bad_lines='skip')\n",
        "    test_df = pd.read_csv('/content/test.csv', quoting=pd.QUOTE_NONNUMERIC, on_bad_lines='skip')\n",
        "except AttributeError:\n",
        "    train_df = pd.read_csv('/content/train.csv', on_bad_lines='skip')  # For pandas versions < 1.0\n",
        "    test_df = pd.read_csv('/content/test.csv', on_bad_lines='skip')  # For pandas versions < 1.0\n",
        "\n",
        "# Extract texts and titles\n",
        "train_texts = train_df['text'].astype(str).tolist()\n",
        "train_titles = train_df['title'].astype(str).tolist()\n",
        "test_texts = test_df['text'].astype(str).tolist()\n",
        "test_titles = test_df['title'].astype(str).tolist()\n",
        "\n",
        "# ... (rest of your code)\n",
        "\n",
        "# Extract texts and titles\n",
        "train_texts = train_df['text'].astype(str).tolist()\n",
        "train_titles = train_df['title'].astype(str).tolist()\n",
        "test_texts = test_df['text'].astype(str).tolist()\n",
        "test_titles = test_df['title'].astype(str).tolist()\n",
        "\n",
        "# Add <start> and <end> tokens to titles for sequence-to-sequence learning\n",
        "#train_titles = ['<start> ' + title + ' <end>' for title in train_titles]\n",
        "#test_titles = ['<start> ' + title + ' <end>' for title in test_titles]\n",
        "\n",
        "# Tokenization parameters\n",
        "vocab_size = 20000\n",
        "max_text_len = 400\n",
        "max_title_len = 20  # include <start> and <end> tokens within this length\n",
        "\n",
        "\n",
        "# Tokenizer for texts\n",
        "text_tokenizer = Tokenizer(num_words=vocab_size, oov_token='<OOV>')\n",
        "text_tokenizer.fit_on_texts(train_texts)\n",
        "train_text_seq = text_tokenizer.texts_to_sequences(train_texts)\n",
        "train_text_seq = pad_sequences(train_text_seq, maxlen=max_text_len, padding='post')\n",
        "test_text_seq = text_tokenizer.texts_to_sequences(test_texts)\n",
        "test_text_seq = pad_sequences(test_text_seq, maxlen=max_text_len, padding='post')\n",
        "\n",
        "# Tokenizer for titles\n",
        "title_tokenizer = Tokenizer(num_words=vocab_size, oov_token='<OOV>', filters='')\n",
        "title_tokenizer.fit_on_texts(train_titles)\n",
        "train_title_seq = title_tokenizer.texts_to_sequences(train_titles)\n",
        "train_title_seq = pad_sequences(train_title_seq, maxlen=max_title_len, padding='post')\n",
        "test_title_seq = title_tokenizer.texts_to_sequences(test_titles)\n",
        "test_title_seq = pad_sequences(test_title_seq, maxlen=max_title_len, padding='post')\n",
        "\n",
        "# Prepare decoder input and output sequences\n",
        "decoder_input_seq = train_title_seq[:, :-1]\n",
        "decoder_target_seq = train_title_seq[:, 1:]\n",
        "\n",
        "# Prepare decoder input for test set (used in evaluation and later generation)\n",
        "decoder_input_test_seq = test_title_seq[:, :-1]\n",
        "decoder_target_test_seq = test_title_seq[:, 1:]\n"
      ]
    },
    {
      "cell_type": "code",
      "source": [
        "import time\n",
        "import numpy as np\n",
        "from tensorflow.keras.models import Model\n",
        "from tensorflow.keras.layers import Input, Embedding, LSTM, Dense\n",
        "from nltk.translate.bleu_score import sentence_bleu\n",
        "import nltk\n",
        "nltk.download('punkt')\n",
        "\n",
        "# Model parameters\n",
        "embedding_dim = 256\n",
        "lstm_units = 512\n",
        "\n",
        "# Encoder\n",
        "encoder_inputs = Input(shape=(max_text_len,))\n",
        "enc_emb = Embedding(vocab_size, embedding_dim, mask_zero=True)(encoder_inputs)\n",
        "encoder_lstm = LSTM(lstm_units, return_state=True)\n",
        "encoder_outputs, state_h, state_c = encoder_lstm(enc_emb)\n",
        "\n",
        "# Decoder\n",
        "decoder_inputs = Input(shape=(max_title_len - 1,))\n",
        "dec_emb_layer = Embedding(vocab_size, embedding_dim, mask_zero=True)\n",
        "dec_emb = dec_emb_layer(decoder_inputs)\n",
        "decoder_lstm = LSTM(lstm_units, return_sequences=True, return_state=True)\n",
        "decoder_outputs, _, _ = decoder_lstm(dec_emb, initial_state=[state_h, state_c])\n",
        "decoder_dense = Dense(vocab_size, activation='softmax')\n",
        "decoder_outputs = decoder_dense(decoder_outputs)\n",
        "\n",
        "# Define the model\n",
        "model_no_attention = Model([encoder_inputs, decoder_inputs], decoder_outputs)\n",
        "model_no_attention.compile(optimizer='adam', loss='sparse_categorical_crossentropy', metrics=['accuracy'])\n",
        "model_no_attention.summary()\n",
        "\n",
        "# Train the model\n",
        "start_time = time.time()\n",
        "model_no_attention.fit([train_text_seq, decoder_input_seq], decoder_target_seq, batch_size=100, epochs=30, validation_split=0.2)\n",
        "training_time = time.time() - start_time\n",
        "print(f\"Training time: {training_time:.2f} seconds\")\n",
        "\n",
        "# Evaluate BLEU Score\n",
        "def evaluate_bleu(model, inputs, targets, tokenizer):\n",
        "    predictions = model.predict(inputs)\n",
        "    predicted_ids = np.argmax(predictions, axis=-1)\n",
        "    references = [[tokenizer.index_word.get(id, '') for id in target if id != 0] for target in targets]\n",
        "    hypotheses = [[tokenizer.index_word.get(id, '') for id in pred if id != 0] for pred in predicted_ids]\n",
        "    scores = [sentence_bleu([ref], hyp) for ref, hyp in zip(references, hypotheses)]\n",
        "    return np.mean(scores)\n",
        "\n",
        "# Inference time measurement\n",
        "start_inf_time = time.time()\n",
        "_ = model_no_attention.predict([test_text_seq[:1], test_title_seq[:, :-1][:1]])\n",
        "inference_time = time.time() - start_inf_time\n",
        "print(f\"Inference time per sample: {inference_time:.4f} seconds\")\n",
        "\n",
        "# BLEU score\n",
        "bleu_score_no_attention = evaluate_bleu(model_no_attention, [test_text_seq, test_title_seq[:, :-1]], test_title_seq[:, 1:], title_tokenizer)\n",
        "print(f\"BLEU Score on Test Set: {bleu_score_no_attention:.4f}\")"
      ],
      "metadata": {
        "colab": {
          "base_uri": "https://localhost:8080/",
          "height": 1000
        },
        "id": "sqWuvUT6zLka",
        "outputId": "b0572fc5-cde2-48a8-9184-db93e7c9f968"
      },
      "execution_count": 35,
      "outputs": [
        {
          "output_type": "stream",
          "name": "stderr",
          "text": [
            "[nltk_data] Downloading package punkt to /root/nltk_data...\n",
            "[nltk_data]   Package punkt is already up-to-date!\n"
          ]
        },
        {
          "output_type": "display_data",
          "data": {
            "text/plain": [
              "\u001b[1mModel: \"functional_5\"\u001b[0m\n"
            ],
            "text/html": [
              "<pre style=\"white-space:pre;overflow-x:auto;line-height:normal;font-family:Menlo,'DejaVu Sans Mono',consolas,'Courier New',monospace\"><span style=\"font-weight: bold\">Model: \"functional_5\"</span>\n",
              "</pre>\n"
            ]
          },
          "metadata": {}
        },
        {
          "output_type": "display_data",
          "data": {
            "text/plain": [
              "┏━━━━━━━━━━━━━━━━━━━━━┳━━━━━━━━━━━━━━━━━━━┳━━━━━━━━━━━━┳━━━━━━━━━━━━━━━━━━━┓\n",
              "┃\u001b[1m \u001b[0m\u001b[1mLayer (type)       \u001b[0m\u001b[1m \u001b[0m┃\u001b[1m \u001b[0m\u001b[1mOutput Shape     \u001b[0m\u001b[1m \u001b[0m┃\u001b[1m \u001b[0m\u001b[1m   Param #\u001b[0m\u001b[1m \u001b[0m┃\u001b[1m \u001b[0m\u001b[1mConnected to     \u001b[0m\u001b[1m \u001b[0m┃\n",
              "┡━━━━━━━━━━━━━━━━━━━━━╇━━━━━━━━━━━━━━━━━━━╇━━━━━━━━━━━━╇━━━━━━━━━━━━━━━━━━━┩\n",
              "│ input_layer_9       │ (\u001b[38;5;45mNone\u001b[0m, \u001b[38;5;34m400\u001b[0m)       │          \u001b[38;5;34m0\u001b[0m │ -                 │\n",
              "│ (\u001b[38;5;33mInputLayer\u001b[0m)        │                   │            │                   │\n",
              "├─────────────────────┼───────────────────┼────────────┼───────────────────┤\n",
              "│ input_layer_10      │ (\u001b[38;5;45mNone\u001b[0m, \u001b[38;5;34m19\u001b[0m)        │          \u001b[38;5;34m0\u001b[0m │ -                 │\n",
              "│ (\u001b[38;5;33mInputLayer\u001b[0m)        │                   │            │                   │\n",
              "├─────────────────────┼───────────────────┼────────────┼───────────────────┤\n",
              "│ embedding_4         │ (\u001b[38;5;45mNone\u001b[0m, \u001b[38;5;34m400\u001b[0m, \u001b[38;5;34m256\u001b[0m)  │  \u001b[38;5;34m5,120,000\u001b[0m │ input_layer_9[\u001b[38;5;34m0\u001b[0m]… │\n",
              "│ (\u001b[38;5;33mEmbedding\u001b[0m)         │                   │            │                   │\n",
              "├─────────────────────┼───────────────────┼────────────┼───────────────────┤\n",
              "│ not_equal_2         │ (\u001b[38;5;45mNone\u001b[0m, \u001b[38;5;34m400\u001b[0m)       │          \u001b[38;5;34m0\u001b[0m │ input_layer_9[\u001b[38;5;34m0\u001b[0m]… │\n",
              "│ (\u001b[38;5;33mNotEqual\u001b[0m)          │                   │            │                   │\n",
              "├─────────────────────┼───────────────────┼────────────┼───────────────────┤\n",
              "│ embedding_5         │ (\u001b[38;5;45mNone\u001b[0m, \u001b[38;5;34m19\u001b[0m, \u001b[38;5;34m256\u001b[0m)   │  \u001b[38;5;34m5,120,000\u001b[0m │ input_layer_10[\u001b[38;5;34m0\u001b[0m… │\n",
              "│ (\u001b[38;5;33mEmbedding\u001b[0m)         │                   │            │                   │\n",
              "├─────────────────────┼───────────────────┼────────────┼───────────────────┤\n",
              "│ lstm_2 (\u001b[38;5;33mLSTM\u001b[0m)       │ [(\u001b[38;5;45mNone\u001b[0m, \u001b[38;5;34m512\u001b[0m),     │  \u001b[38;5;34m1,574,912\u001b[0m │ embedding_4[\u001b[38;5;34m0\u001b[0m][\u001b[38;5;34m0\u001b[0m… │\n",
              "│                     │ (\u001b[38;5;45mNone\u001b[0m, \u001b[38;5;34m512\u001b[0m),      │            │ not_equal_2[\u001b[38;5;34m0\u001b[0m][\u001b[38;5;34m0\u001b[0m] │\n",
              "│                     │ (\u001b[38;5;45mNone\u001b[0m, \u001b[38;5;34m512\u001b[0m)]      │            │                   │\n",
              "├─────────────────────┼───────────────────┼────────────┼───────────────────┤\n",
              "│ lstm_3 (\u001b[38;5;33mLSTM\u001b[0m)       │ [(\u001b[38;5;45mNone\u001b[0m, \u001b[38;5;34m19\u001b[0m, \u001b[38;5;34m512\u001b[0m), │  \u001b[38;5;34m1,574,912\u001b[0m │ embedding_5[\u001b[38;5;34m0\u001b[0m][\u001b[38;5;34m0\u001b[0m… │\n",
              "│                     │ (\u001b[38;5;45mNone\u001b[0m, \u001b[38;5;34m512\u001b[0m),      │            │ lstm_2[\u001b[38;5;34m0\u001b[0m][\u001b[38;5;34m1\u001b[0m],     │\n",
              "│                     │ (\u001b[38;5;45mNone\u001b[0m, \u001b[38;5;34m512\u001b[0m)]      │            │ lstm_2[\u001b[38;5;34m0\u001b[0m][\u001b[38;5;34m2\u001b[0m]      │\n",
              "├─────────────────────┼───────────────────┼────────────┼───────────────────┤\n",
              "│ dense_6 (\u001b[38;5;33mDense\u001b[0m)     │ (\u001b[38;5;45mNone\u001b[0m, \u001b[38;5;34m19\u001b[0m, \u001b[38;5;34m20000\u001b[0m) │ \u001b[38;5;34m10,260,000\u001b[0m │ lstm_3[\u001b[38;5;34m0\u001b[0m][\u001b[38;5;34m0\u001b[0m]      │\n",
              "└─────────────────────┴───────────────────┴────────────┴───────────────────┘\n"
            ],
            "text/html": [
              "<pre style=\"white-space:pre;overflow-x:auto;line-height:normal;font-family:Menlo,'DejaVu Sans Mono',consolas,'Courier New',monospace\">┏━━━━━━━━━━━━━━━━━━━━━┳━━━━━━━━━━━━━━━━━━━┳━━━━━━━━━━━━┳━━━━━━━━━━━━━━━━━━━┓\n",
              "┃<span style=\"font-weight: bold\"> Layer (type)        </span>┃<span style=\"font-weight: bold\"> Output Shape      </span>┃<span style=\"font-weight: bold\">    Param # </span>┃<span style=\"font-weight: bold\"> Connected to      </span>┃\n",
              "┡━━━━━━━━━━━━━━━━━━━━━╇━━━━━━━━━━━━━━━━━━━╇━━━━━━━━━━━━╇━━━━━━━━━━━━━━━━━━━┩\n",
              "│ input_layer_9       │ (<span style=\"color: #00d7ff; text-decoration-color: #00d7ff\">None</span>, <span style=\"color: #00af00; text-decoration-color: #00af00\">400</span>)       │          <span style=\"color: #00af00; text-decoration-color: #00af00\">0</span> │ -                 │\n",
              "│ (<span style=\"color: #0087ff; text-decoration-color: #0087ff\">InputLayer</span>)        │                   │            │                   │\n",
              "├─────────────────────┼───────────────────┼────────────┼───────────────────┤\n",
              "│ input_layer_10      │ (<span style=\"color: #00d7ff; text-decoration-color: #00d7ff\">None</span>, <span style=\"color: #00af00; text-decoration-color: #00af00\">19</span>)        │          <span style=\"color: #00af00; text-decoration-color: #00af00\">0</span> │ -                 │\n",
              "│ (<span style=\"color: #0087ff; text-decoration-color: #0087ff\">InputLayer</span>)        │                   │            │                   │\n",
              "├─────────────────────┼───────────────────┼────────────┼───────────────────┤\n",
              "│ embedding_4         │ (<span style=\"color: #00d7ff; text-decoration-color: #00d7ff\">None</span>, <span style=\"color: #00af00; text-decoration-color: #00af00\">400</span>, <span style=\"color: #00af00; text-decoration-color: #00af00\">256</span>)  │  <span style=\"color: #00af00; text-decoration-color: #00af00\">5,120,000</span> │ input_layer_9[<span style=\"color: #00af00; text-decoration-color: #00af00\">0</span>]… │\n",
              "│ (<span style=\"color: #0087ff; text-decoration-color: #0087ff\">Embedding</span>)         │                   │            │                   │\n",
              "├─────────────────────┼───────────────────┼────────────┼───────────────────┤\n",
              "│ not_equal_2         │ (<span style=\"color: #00d7ff; text-decoration-color: #00d7ff\">None</span>, <span style=\"color: #00af00; text-decoration-color: #00af00\">400</span>)       │          <span style=\"color: #00af00; text-decoration-color: #00af00\">0</span> │ input_layer_9[<span style=\"color: #00af00; text-decoration-color: #00af00\">0</span>]… │\n",
              "│ (<span style=\"color: #0087ff; text-decoration-color: #0087ff\">NotEqual</span>)          │                   │            │                   │\n",
              "├─────────────────────┼───────────────────┼────────────┼───────────────────┤\n",
              "│ embedding_5         │ (<span style=\"color: #00d7ff; text-decoration-color: #00d7ff\">None</span>, <span style=\"color: #00af00; text-decoration-color: #00af00\">19</span>, <span style=\"color: #00af00; text-decoration-color: #00af00\">256</span>)   │  <span style=\"color: #00af00; text-decoration-color: #00af00\">5,120,000</span> │ input_layer_10[<span style=\"color: #00af00; text-decoration-color: #00af00\">0</span>… │\n",
              "│ (<span style=\"color: #0087ff; text-decoration-color: #0087ff\">Embedding</span>)         │                   │            │                   │\n",
              "├─────────────────────┼───────────────────┼────────────┼───────────────────┤\n",
              "│ lstm_2 (<span style=\"color: #0087ff; text-decoration-color: #0087ff\">LSTM</span>)       │ [(<span style=\"color: #00d7ff; text-decoration-color: #00d7ff\">None</span>, <span style=\"color: #00af00; text-decoration-color: #00af00\">512</span>),     │  <span style=\"color: #00af00; text-decoration-color: #00af00\">1,574,912</span> │ embedding_4[<span style=\"color: #00af00; text-decoration-color: #00af00\">0</span>][<span style=\"color: #00af00; text-decoration-color: #00af00\">0</span>… │\n",
              "│                     │ (<span style=\"color: #00d7ff; text-decoration-color: #00d7ff\">None</span>, <span style=\"color: #00af00; text-decoration-color: #00af00\">512</span>),      │            │ not_equal_2[<span style=\"color: #00af00; text-decoration-color: #00af00\">0</span>][<span style=\"color: #00af00; text-decoration-color: #00af00\">0</span>] │\n",
              "│                     │ (<span style=\"color: #00d7ff; text-decoration-color: #00d7ff\">None</span>, <span style=\"color: #00af00; text-decoration-color: #00af00\">512</span>)]      │            │                   │\n",
              "├─────────────────────┼───────────────────┼────────────┼───────────────────┤\n",
              "│ lstm_3 (<span style=\"color: #0087ff; text-decoration-color: #0087ff\">LSTM</span>)       │ [(<span style=\"color: #00d7ff; text-decoration-color: #00d7ff\">None</span>, <span style=\"color: #00af00; text-decoration-color: #00af00\">19</span>, <span style=\"color: #00af00; text-decoration-color: #00af00\">512</span>), │  <span style=\"color: #00af00; text-decoration-color: #00af00\">1,574,912</span> │ embedding_5[<span style=\"color: #00af00; text-decoration-color: #00af00\">0</span>][<span style=\"color: #00af00; text-decoration-color: #00af00\">0</span>… │\n",
              "│                     │ (<span style=\"color: #00d7ff; text-decoration-color: #00d7ff\">None</span>, <span style=\"color: #00af00; text-decoration-color: #00af00\">512</span>),      │            │ lstm_2[<span style=\"color: #00af00; text-decoration-color: #00af00\">0</span>][<span style=\"color: #00af00; text-decoration-color: #00af00\">1</span>],     │\n",
              "│                     │ (<span style=\"color: #00d7ff; text-decoration-color: #00d7ff\">None</span>, <span style=\"color: #00af00; text-decoration-color: #00af00\">512</span>)]      │            │ lstm_2[<span style=\"color: #00af00; text-decoration-color: #00af00\">0</span>][<span style=\"color: #00af00; text-decoration-color: #00af00\">2</span>]      │\n",
              "├─────────────────────┼───────────────────┼────────────┼───────────────────┤\n",
              "│ dense_6 (<span style=\"color: #0087ff; text-decoration-color: #0087ff\">Dense</span>)     │ (<span style=\"color: #00d7ff; text-decoration-color: #00d7ff\">None</span>, <span style=\"color: #00af00; text-decoration-color: #00af00\">19</span>, <span style=\"color: #00af00; text-decoration-color: #00af00\">20000</span>) │ <span style=\"color: #00af00; text-decoration-color: #00af00\">10,260,000</span> │ lstm_3[<span style=\"color: #00af00; text-decoration-color: #00af00\">0</span>][<span style=\"color: #00af00; text-decoration-color: #00af00\">0</span>]      │\n",
              "└─────────────────────┴───────────────────┴────────────┴───────────────────┘\n",
              "</pre>\n"
            ]
          },
          "metadata": {}
        },
        {
          "output_type": "display_data",
          "data": {
            "text/plain": [
              "\u001b[1m Total params: \u001b[0m\u001b[38;5;34m23,649,824\u001b[0m (90.22 MB)\n"
            ],
            "text/html": [
              "<pre style=\"white-space:pre;overflow-x:auto;line-height:normal;font-family:Menlo,'DejaVu Sans Mono',consolas,'Courier New',monospace\"><span style=\"font-weight: bold\"> Total params: </span><span style=\"color: #00af00; text-decoration-color: #00af00\">23,649,824</span> (90.22 MB)\n",
              "</pre>\n"
            ]
          },
          "metadata": {}
        },
        {
          "output_type": "display_data",
          "data": {
            "text/plain": [
              "\u001b[1m Trainable params: \u001b[0m\u001b[38;5;34m23,649,824\u001b[0m (90.22 MB)\n"
            ],
            "text/html": [
              "<pre style=\"white-space:pre;overflow-x:auto;line-height:normal;font-family:Menlo,'DejaVu Sans Mono',consolas,'Courier New',monospace\"><span style=\"font-weight: bold\"> Trainable params: </span><span style=\"color: #00af00; text-decoration-color: #00af00\">23,649,824</span> (90.22 MB)\n",
              "</pre>\n"
            ]
          },
          "metadata": {}
        },
        {
          "output_type": "display_data",
          "data": {
            "text/plain": [
              "\u001b[1m Non-trainable params: \u001b[0m\u001b[38;5;34m0\u001b[0m (0.00 B)\n"
            ],
            "text/html": [
              "<pre style=\"white-space:pre;overflow-x:auto;line-height:normal;font-family:Menlo,'DejaVu Sans Mono',consolas,'Courier New',monospace\"><span style=\"font-weight: bold\"> Non-trainable params: </span><span style=\"color: #00af00; text-decoration-color: #00af00\">0</span> (0.00 B)\n",
              "</pre>\n"
            ]
          },
          "metadata": {}
        },
        {
          "output_type": "stream",
          "name": "stdout",
          "text": [
            "Epoch 1/30\n",
            "\u001b[1m120/120\u001b[0m \u001b[32m━━━━━━━━━━━━━━━━━━━━\u001b[0m\u001b[37m\u001b[0m \u001b[1m38s\u001b[0m 295ms/step - accuracy: 0.4863 - loss: 8.1839 - val_accuracy: 0.5426 - val_loss: 7.1416\n",
            "Epoch 2/30\n",
            "\u001b[1m120/120\u001b[0m \u001b[32m━━━━━━━━━━━━━━━━━━━━\u001b[0m\u001b[37m\u001b[0m \u001b[1m39s\u001b[0m 278ms/step - accuracy: 0.5442 - loss: 6.8908 - val_accuracy: 0.5480 - val_loss: 6.9997\n",
            "Epoch 3/30\n",
            "\u001b[1m120/120\u001b[0m \u001b[32m━━━━━━━━━━━━━━━━━━━━\u001b[0m\u001b[37m\u001b[0m \u001b[1m34s\u001b[0m 284ms/step - accuracy: 0.5509 - loss: 6.5935 - val_accuracy: 0.5529 - val_loss: 6.8857\n",
            "Epoch 4/30\n",
            "\u001b[1m120/120\u001b[0m \u001b[32m━━━━━━━━━━━━━━━━━━━━\u001b[0m\u001b[37m\u001b[0m \u001b[1m35s\u001b[0m 289ms/step - accuracy: 0.5581 - loss: 6.3260 - val_accuracy: 0.5561 - val_loss: 6.8003\n",
            "Epoch 5/30\n",
            "\u001b[1m120/120\u001b[0m \u001b[32m━━━━━━━━━━━━━━━━━━━━\u001b[0m\u001b[37m\u001b[0m \u001b[1m43s\u001b[0m 308ms/step - accuracy: 0.5661 - loss: 6.0329 - val_accuracy: 0.5601 - val_loss: 6.7335\n",
            "Epoch 6/30\n",
            "\u001b[1m120/120\u001b[0m \u001b[32m━━━━━━━━━━━━━━━━━━━━\u001b[0m\u001b[37m\u001b[0m \u001b[1m42s\u001b[0m 315ms/step - accuracy: 0.5747 - loss: 5.7429 - val_accuracy: 0.5649 - val_loss: 6.7034\n",
            "Epoch 7/30\n",
            "\u001b[1m120/120\u001b[0m \u001b[32m━━━━━━━━━━━━━━━━━━━━\u001b[0m\u001b[37m\u001b[0m \u001b[1m40s\u001b[0m 305ms/step - accuracy: 0.5846 - loss: 5.4550 - val_accuracy: 0.5672 - val_loss: 6.6867\n",
            "Epoch 8/30\n",
            "\u001b[1m120/120\u001b[0m \u001b[32m━━━━━━━━━━━━━━━━━━━━\u001b[0m\u001b[37m\u001b[0m \u001b[1m42s\u001b[0m 316ms/step - accuracy: 0.5921 - loss: 5.1789 - val_accuracy: 0.5688 - val_loss: 6.7004\n",
            "Epoch 9/30\n",
            "\u001b[1m120/120\u001b[0m \u001b[32m━━━━━━━━━━━━━━━━━━━━\u001b[0m\u001b[37m\u001b[0m \u001b[1m39s\u001b[0m 304ms/step - accuracy: 0.5977 - loss: 4.8973 - val_accuracy: 0.5716 - val_loss: 6.7152\n",
            "Epoch 10/30\n",
            "\u001b[1m120/120\u001b[0m \u001b[32m━━━━━━━━━━━━━━━━━━━━\u001b[0m\u001b[37m\u001b[0m \u001b[1m36s\u001b[0m 302ms/step - accuracy: 0.6077 - loss: 4.6087 - val_accuracy: 0.5704 - val_loss: 6.7322\n",
            "Epoch 11/30\n",
            "\u001b[1m120/120\u001b[0m \u001b[32m━━━━━━━━━━━━━━━━━━━━\u001b[0m\u001b[37m\u001b[0m \u001b[1m41s\u001b[0m 302ms/step - accuracy: 0.6176 - loss: 4.3458 - val_accuracy: 0.5713 - val_loss: 6.7707\n",
            "Epoch 12/30\n",
            "\u001b[1m120/120\u001b[0m \u001b[32m━━━━━━━━━━━━━━━━━━━━\u001b[0m\u001b[37m\u001b[0m \u001b[1m38s\u001b[0m 318ms/step - accuracy: 0.6316 - loss: 4.0807 - val_accuracy: 0.5696 - val_loss: 6.8269\n",
            "Epoch 13/30\n",
            "\u001b[1m120/120\u001b[0m \u001b[32m━━━━━━━━━━━━━━━━━━━━\u001b[0m\u001b[37m\u001b[0m \u001b[1m39s\u001b[0m 303ms/step - accuracy: 0.6468 - loss: 3.8275 - val_accuracy: 0.5706 - val_loss: 6.8841\n",
            "Epoch 14/30\n",
            "\u001b[1m120/120\u001b[0m \u001b[32m━━━━━━━━━━━━━━━━━━━━\u001b[0m\u001b[37m\u001b[0m \u001b[1m36s\u001b[0m 303ms/step - accuracy: 0.6644 - loss: 3.5733 - val_accuracy: 0.5703 - val_loss: 6.9489\n",
            "Epoch 15/30\n",
            "\u001b[1m120/120\u001b[0m \u001b[32m━━━━━━━━━━━━━━━━━━━━\u001b[0m\u001b[37m\u001b[0m \u001b[1m43s\u001b[0m 318ms/step - accuracy: 0.6835 - loss: 3.3369 - val_accuracy: 0.5718 - val_loss: 7.0317\n",
            "Epoch 16/30\n",
            "\u001b[1m120/120\u001b[0m \u001b[32m━━━━━━━━━━━━━━━━━━━━\u001b[0m\u001b[37m\u001b[0m \u001b[1m41s\u001b[0m 318ms/step - accuracy: 0.7006 - loss: 3.1114 - val_accuracy: 0.5713 - val_loss: 7.1035\n",
            "Epoch 17/30\n",
            "\u001b[1m120/120\u001b[0m \u001b[32m━━━━━━━━━━━━━━━━━━━━\u001b[0m\u001b[37m\u001b[0m \u001b[1m39s\u001b[0m 303ms/step - accuracy: 0.7187 - loss: 2.9071 - val_accuracy: 0.5696 - val_loss: 7.1786\n",
            "Epoch 18/30\n",
            "\u001b[1m120/120\u001b[0m \u001b[32m━━━━━━━━━━━━━━━━━━━━\u001b[0m\u001b[37m\u001b[0m \u001b[1m43s\u001b[0m 318ms/step - accuracy: 0.7368 - loss: 2.6975 - val_accuracy: 0.5696 - val_loss: 7.2681\n",
            "Epoch 19/30\n",
            "\u001b[1m120/120\u001b[0m \u001b[32m━━━━━━━━━━━━━━━━━━━━\u001b[0m\u001b[37m\u001b[0m \u001b[1m39s\u001b[0m 303ms/step - accuracy: 0.7541 - loss: 2.5001 - val_accuracy: 0.5691 - val_loss: 7.3480\n",
            "Epoch 20/30\n",
            "\u001b[1m120/120\u001b[0m \u001b[32m━━━━━━━━━━━━━━━━━━━━\u001b[0m\u001b[37m\u001b[0m \u001b[1m43s\u001b[0m 318ms/step - accuracy: 0.7712 - loss: 2.3161 - val_accuracy: 0.5683 - val_loss: 7.4219\n",
            "Epoch 21/30\n",
            "\u001b[1m120/120\u001b[0m \u001b[32m━━━━━━━━━━━━━━━━━━━━\u001b[0m\u001b[37m\u001b[0m \u001b[1m36s\u001b[0m 303ms/step - accuracy: 0.7888 - loss: 2.1464 - val_accuracy: 0.5661 - val_loss: 7.5292\n",
            "Epoch 22/30\n",
            "\u001b[1m120/120\u001b[0m \u001b[32m━━━━━━━━━━━━━━━━━━━━\u001b[0m\u001b[37m\u001b[0m \u001b[1m41s\u001b[0m 302ms/step - accuracy: 0.8031 - loss: 1.9970 - val_accuracy: 0.5665 - val_loss: 7.6246\n",
            "Epoch 23/30\n",
            "\u001b[1m120/120\u001b[0m \u001b[32m━━━━━━━━━━━━━━━━━━━━\u001b[0m\u001b[37m\u001b[0m \u001b[1m43s\u001b[0m 319ms/step - accuracy: 0.8182 - loss: 1.8463 - val_accuracy: 0.5669 - val_loss: 7.6994\n",
            "Epoch 24/30\n",
            "\u001b[1m120/120\u001b[0m \u001b[32m━━━━━━━━━━━━━━━━━━━━\u001b[0m\u001b[37m\u001b[0m \u001b[1m41s\u001b[0m 316ms/step - accuracy: 0.8328 - loss: 1.7024 - val_accuracy: 0.5682 - val_loss: 7.8071\n",
            "Epoch 25/30\n",
            "\u001b[1m120/120\u001b[0m \u001b[32m━━━━━━━━━━━━━━━━━━━━\u001b[0m\u001b[37m\u001b[0m \u001b[1m41s\u001b[0m 317ms/step - accuracy: 0.8463 - loss: 1.5821 - val_accuracy: 0.5675 - val_loss: 7.8956\n",
            "Epoch 26/30\n",
            "\u001b[1m120/120\u001b[0m \u001b[32m━━━━━━━━━━━━━━━━━━━━\u001b[0m\u001b[37m\u001b[0m \u001b[1m41s\u001b[0m 316ms/step - accuracy: 0.8616 - loss: 1.4404 - val_accuracy: 0.5652 - val_loss: 7.9879\n",
            "Epoch 27/30\n",
            "\u001b[1m120/120\u001b[0m \u001b[32m━━━━━━━━━━━━━━━━━━━━\u001b[0m\u001b[37m\u001b[0m \u001b[1m41s\u001b[0m 315ms/step - accuracy: 0.8736 - loss: 1.3242 - val_accuracy: 0.5682 - val_loss: 8.0817\n",
            "Epoch 28/30\n",
            "\u001b[1m120/120\u001b[0m \u001b[32m━━━━━━━━━━━━━━━━━━━━\u001b[0m\u001b[37m\u001b[0m \u001b[1m41s\u001b[0m 315ms/step - accuracy: 0.8843 - loss: 1.2234 - val_accuracy: 0.5657 - val_loss: 8.1821\n",
            "Epoch 29/30\n",
            "\u001b[1m120/120\u001b[0m \u001b[32m━━━━━━━━━━━━━━━━━━━━\u001b[0m\u001b[37m\u001b[0m \u001b[1m38s\u001b[0m 315ms/step - accuracy: 0.8976 - loss: 1.1145 - val_accuracy: 0.5653 - val_loss: 8.2792\n",
            "Epoch 30/30\n",
            "\u001b[1m120/120\u001b[0m \u001b[32m━━━━━━━━━━━━━━━━━━━━\u001b[0m\u001b[37m\u001b[0m \u001b[1m39s\u001b[0m 300ms/step - accuracy: 0.9081 - loss: 1.0179 - val_accuracy: 0.5643 - val_loss: 8.3719\n",
            "Training time: 1196.70 seconds\n",
            "\u001b[1m1/1\u001b[0m \u001b[32m━━━━━━━━━━━━━━━━━━━━\u001b[0m\u001b[37m\u001b[0m \u001b[1m0s\u001b[0m 230ms/step\n",
            "Inference time per sample: 0.3642 seconds\n",
            "\u001b[1m1/1\u001b[0m \u001b[32m━━━━━━━━━━━━━━━━━━━━\u001b[0m\u001b[37m\u001b[0m \u001b[1m0s\u001b[0m 264ms/step\n",
            "BLEU Score on Test Set: 0.3426\n"
          ]
        },
        {
          "output_type": "stream",
          "name": "stderr",
          "text": [
            "/usr/local/lib/python3.11/dist-packages/nltk/translate/bleu_score.py:577: UserWarning: \n",
            "The hypothesis contains 0 counts of 2-gram overlaps.\n",
            "Therefore the BLEU score evaluates to 0, independently of\n",
            "how many N-gram overlaps of lower order it contains.\n",
            "Consider using lower n-gram order or use SmoothingFunction()\n",
            "  warnings.warn(_msg)\n"
          ]
        }
      ]
    },
    {
      "cell_type": "code",
      "source": [
        "import tensorflow as tf\n",
        "from tensorflow.keras.layers import Input, Embedding, Dense, Dropout, LayerNormalization\n",
        "from tensorflow.keras.models import Model\n",
        "import numpy as np\n",
        "\n",
        "# Positional Encoding\n",
        "def get_positional_encoding(max_len, dm):\n",
        "    pos = np.arange(max_len)[:, np.newaxis]\n",
        "    i = np.arange(dm)[np.newaxis, :]\n",
        "    angle_rates = 1 / np.power(10000, (2 * (i//2)) / np.float32(dm))\n",
        "    angle_rads = pos * angle_rates\n",
        "    angle_rads[:, 0::2] = np.sin(angle_rads[:, 0::2])\n",
        "    angle_rads[:, 1::2] = np.cos(angle_rads[:, 1::2])\n",
        "    return tf.cast(angle_rads[np.newaxis, ...], dtype=tf.float32)\n",
        "\n",
        "# Multi-head Attention block\n",
        "# Multi-head Attention block\n",
        "class TransformerBlock(tf.keras.layers.Layer):\n",
        "    def __init__(self, embed_dim, num_heads, ff_dim, rate=0.1):\n",
        "        super().__init__()\n",
        "        self.att = tf.keras.layers.MultiHeadAttention(num_heads=num_heads, key_dim=embed_dim)\n",
        "        self.ffn = tf.keras.Sequential([\n",
        "            Dense(ff_dim, activation='relu'),\n",
        "            Dense(embed_dim),\n",
        "        ])\n",
        "        self.layernorm1 = LayerNormalization(epsilon=1e-6)\n",
        "        self.layernorm2 = LayerNormalization(epsilon=1e-6)\n",
        "        self.dropout1 = Dropout(rate)\n",
        "        self.dropout2 = Dropout(rate)\n",
        "\n",
        "    def call(self, inputs, training=False, mask=None): # Set a default value for training\n",
        "        attn_output = self.att(inputs, inputs, attention_mask=mask)\n",
        "        attn_output = self.dropout1(attn_output, training=training)\n",
        "        out1 = self.layernorm1(inputs + attn_output)\n",
        "        ffn_output = self.ffn(out1)\n",
        "        ffn_output = self.dropout2(ffn_output, training=training)\n",
        "        return self.layernorm2(out1 + ffn_output)\n",
        "\n",
        "# Define Encoder\n",
        "def build_encoder(vocab_size, max_len, embed_dim, num_heads, ff_dim):\n",
        "    inputs = Input(shape=(max_len,))\n",
        "    x = Embedding(vocab_size, embed_dim)(inputs)\n",
        "    x += get_positional_encoding(max_len, embed_dim)\n",
        "    x = TransformerBlock(embed_dim, num_heads, ff_dim)(x)\n",
        "    return Model(inputs, x, name='Encoder')\n",
        "\n",
        "# Define Decoder\n",
        "def build_decoder(vocab_size, max_len, embed_dim, num_heads, ff_dim):\n",
        "    inputs = Input(shape=(max_len,))\n",
        "    enc_output = Input(shape=(None, embed_dim))\n",
        "    x = Embedding(vocab_size, embed_dim)(inputs)\n",
        "    x += get_positional_encoding(max_len, embed_dim)\n",
        "    x = TransformerBlock(embed_dim, num_heads, ff_dim)(x)\n",
        "    x = tf.keras.layers.MultiHeadAttention(num_heads=num_heads, key_dim=embed_dim)(x, enc_output)\n",
        "    x = LayerNormalization(epsilon=1e-6)(x)\n",
        "    outputs = Dense(vocab_size, activation='softmax')(x)\n",
        "    return Model([inputs, enc_output], outputs, name='Decoder')\n",
        "\n",
        "# Hyperparameters\n",
        "embed_dim = 256\n",
        "num_heads = 4\n",
        "ff_dim = 512\n",
        "max_text_len = 400\n",
        "max_title_len = 20\n",
        "vocab_size = 20000\n",
        "\n",
        "# Instantiate encoder and decoder\n",
        "encoder = build_encoder(vocab_size, max_text_len, embed_dim, num_heads, ff_dim)\n",
        "decoder = build_decoder(vocab_size, max_title_len - 1, embed_dim, num_heads, ff_dim)\n",
        "\n",
        "# Define final model\n",
        "encoder_inputs = Input(shape=(max_text_len,))\n",
        "decoder_inputs = Input(shape=(max_title_len - 1,))\n",
        "enc_out = encoder(encoder_inputs)\n",
        "dec_out = decoder([decoder_inputs, enc_out])\n",
        "model_transformer = Model([encoder_inputs, decoder_inputs], dec_out)\n",
        "model_transformer.compile(optimizer='adam', loss='sparse_categorical_crossentropy', metrics=['accuracy'])\n",
        "model_transformer.summary()\n",
        "\n",
        "# For training\n",
        "model_transformer.fit([train_text_seq, decoder_input_seq], decoder_target_seq, batch_size=64, epochs=20, validation_split=0.2)"
      ],
      "metadata": {
        "colab": {
          "base_uri": "https://localhost:8080/",
          "height": 1000
        },
        "id": "qV4omimFzWKH",
        "outputId": "95444b52-b2d8-4262-c6fd-39922b028e06"
      },
      "execution_count": 9,
      "outputs": [
        {
          "output_type": "display_data",
          "data": {
            "text/plain": [
              "\u001b[1mModel: \"functional_3\"\u001b[0m\n"
            ],
            "text/html": [
              "<pre style=\"white-space:pre;overflow-x:auto;line-height:normal;font-family:Menlo,'DejaVu Sans Mono',consolas,'Courier New',monospace\"><span style=\"font-weight: bold\">Model: \"functional_3\"</span>\n",
              "</pre>\n"
            ]
          },
          "metadata": {}
        },
        {
          "output_type": "display_data",
          "data": {
            "text/plain": [
              "┏━━━━━━━━━━━━━━━━━━━━━┳━━━━━━━━━━━━━━━━━━━┳━━━━━━━━━━━━┳━━━━━━━━━━━━━━━━━━━┓\n",
              "┃\u001b[1m \u001b[0m\u001b[1mLayer (type)       \u001b[0m\u001b[1m \u001b[0m┃\u001b[1m \u001b[0m\u001b[1mOutput Shape     \u001b[0m\u001b[1m \u001b[0m┃\u001b[1m \u001b[0m\u001b[1m   Param #\u001b[0m\u001b[1m \u001b[0m┃\u001b[1m \u001b[0m\u001b[1mConnected to     \u001b[0m\u001b[1m \u001b[0m┃\n",
              "┡━━━━━━━━━━━━━━━━━━━━━╇━━━━━━━━━━━━━━━━━━━╇━━━━━━━━━━━━╇━━━━━━━━━━━━━━━━━━━┩\n",
              "│ input_layer_7       │ (\u001b[38;5;45mNone\u001b[0m, \u001b[38;5;34m400\u001b[0m)       │          \u001b[38;5;34m0\u001b[0m │ -                 │\n",
              "│ (\u001b[38;5;33mInputLayer\u001b[0m)        │                   │            │                   │\n",
              "├─────────────────────┼───────────────────┼────────────┼───────────────────┤\n",
              "│ input_layer_8       │ (\u001b[38;5;45mNone\u001b[0m, \u001b[38;5;34m19\u001b[0m)        │          \u001b[38;5;34m0\u001b[0m │ -                 │\n",
              "│ (\u001b[38;5;33mInputLayer\u001b[0m)        │                   │            │                   │\n",
              "├─────────────────────┼───────────────────┼────────────┼───────────────────┤\n",
              "│ Encoder             │ (\u001b[38;5;45mNone\u001b[0m, \u001b[38;5;34m400\u001b[0m, \u001b[38;5;34m256\u001b[0m)  │  \u001b[38;5;34m6,435,840\u001b[0m │ input_layer_7[\u001b[38;5;34m0\u001b[0m]… │\n",
              "│ (\u001b[38;5;33mFunctional\u001b[0m)        │                   │            │                   │\n",
              "├─────────────────────┼───────────────────┼────────────┼───────────────────┤\n",
              "│ Decoder             │ (\u001b[38;5;45mNone\u001b[0m, \u001b[38;5;34m19\u001b[0m, \u001b[38;5;34m20000\u001b[0m) │ \u001b[38;5;34m12,628,256\u001b[0m │ input_layer_8[\u001b[38;5;34m0\u001b[0m]… │\n",
              "│ (\u001b[38;5;33mFunctional\u001b[0m)        │                   │            │ Encoder[\u001b[38;5;34m0\u001b[0m][\u001b[38;5;34m0\u001b[0m]     │\n",
              "└─────────────────────┴───────────────────┴────────────┴───────────────────┘\n"
            ],
            "text/html": [
              "<pre style=\"white-space:pre;overflow-x:auto;line-height:normal;font-family:Menlo,'DejaVu Sans Mono',consolas,'Courier New',monospace\">┏━━━━━━━━━━━━━━━━━━━━━┳━━━━━━━━━━━━━━━━━━━┳━━━━━━━━━━━━┳━━━━━━━━━━━━━━━━━━━┓\n",
              "┃<span style=\"font-weight: bold\"> Layer (type)        </span>┃<span style=\"font-weight: bold\"> Output Shape      </span>┃<span style=\"font-weight: bold\">    Param # </span>┃<span style=\"font-weight: bold\"> Connected to      </span>┃\n",
              "┡━━━━━━━━━━━━━━━━━━━━━╇━━━━━━━━━━━━━━━━━━━╇━━━━━━━━━━━━╇━━━━━━━━━━━━━━━━━━━┩\n",
              "│ input_layer_7       │ (<span style=\"color: #00d7ff; text-decoration-color: #00d7ff\">None</span>, <span style=\"color: #00af00; text-decoration-color: #00af00\">400</span>)       │          <span style=\"color: #00af00; text-decoration-color: #00af00\">0</span> │ -                 │\n",
              "│ (<span style=\"color: #0087ff; text-decoration-color: #0087ff\">InputLayer</span>)        │                   │            │                   │\n",
              "├─────────────────────┼───────────────────┼────────────┼───────────────────┤\n",
              "│ input_layer_8       │ (<span style=\"color: #00d7ff; text-decoration-color: #00d7ff\">None</span>, <span style=\"color: #00af00; text-decoration-color: #00af00\">19</span>)        │          <span style=\"color: #00af00; text-decoration-color: #00af00\">0</span> │ -                 │\n",
              "│ (<span style=\"color: #0087ff; text-decoration-color: #0087ff\">InputLayer</span>)        │                   │            │                   │\n",
              "├─────────────────────┼───────────────────┼────────────┼───────────────────┤\n",
              "│ Encoder             │ (<span style=\"color: #00d7ff; text-decoration-color: #00d7ff\">None</span>, <span style=\"color: #00af00; text-decoration-color: #00af00\">400</span>, <span style=\"color: #00af00; text-decoration-color: #00af00\">256</span>)  │  <span style=\"color: #00af00; text-decoration-color: #00af00\">6,435,840</span> │ input_layer_7[<span style=\"color: #00af00; text-decoration-color: #00af00\">0</span>]… │\n",
              "│ (<span style=\"color: #0087ff; text-decoration-color: #0087ff\">Functional</span>)        │                   │            │                   │\n",
              "├─────────────────────┼───────────────────┼────────────┼───────────────────┤\n",
              "│ Decoder             │ (<span style=\"color: #00d7ff; text-decoration-color: #00d7ff\">None</span>, <span style=\"color: #00af00; text-decoration-color: #00af00\">19</span>, <span style=\"color: #00af00; text-decoration-color: #00af00\">20000</span>) │ <span style=\"color: #00af00; text-decoration-color: #00af00\">12,628,256</span> │ input_layer_8[<span style=\"color: #00af00; text-decoration-color: #00af00\">0</span>]… │\n",
              "│ (<span style=\"color: #0087ff; text-decoration-color: #0087ff\">Functional</span>)        │                   │            │ Encoder[<span style=\"color: #00af00; text-decoration-color: #00af00\">0</span>][<span style=\"color: #00af00; text-decoration-color: #00af00\">0</span>]     │\n",
              "└─────────────────────┴───────────────────┴────────────┴───────────────────┘\n",
              "</pre>\n"
            ]
          },
          "metadata": {}
        },
        {
          "output_type": "display_data",
          "data": {
            "text/plain": [
              "\u001b[1m Total params: \u001b[0m\u001b[38;5;34m19,064,096\u001b[0m (72.72 MB)\n"
            ],
            "text/html": [
              "<pre style=\"white-space:pre;overflow-x:auto;line-height:normal;font-family:Menlo,'DejaVu Sans Mono',consolas,'Courier New',monospace\"><span style=\"font-weight: bold\"> Total params: </span><span style=\"color: #00af00; text-decoration-color: #00af00\">19,064,096</span> (72.72 MB)\n",
              "</pre>\n"
            ]
          },
          "metadata": {}
        },
        {
          "output_type": "display_data",
          "data": {
            "text/plain": [
              "\u001b[1m Trainable params: \u001b[0m\u001b[38;5;34m19,064,096\u001b[0m (72.72 MB)\n"
            ],
            "text/html": [
              "<pre style=\"white-space:pre;overflow-x:auto;line-height:normal;font-family:Menlo,'DejaVu Sans Mono',consolas,'Courier New',monospace\"><span style=\"font-weight: bold\"> Trainable params: </span><span style=\"color: #00af00; text-decoration-color: #00af00\">19,064,096</span> (72.72 MB)\n",
              "</pre>\n"
            ]
          },
          "metadata": {}
        },
        {
          "output_type": "display_data",
          "data": {
            "text/plain": [
              "\u001b[1m Non-trainable params: \u001b[0m\u001b[38;5;34m0\u001b[0m (0.00 B)\n"
            ],
            "text/html": [
              "<pre style=\"white-space:pre;overflow-x:auto;line-height:normal;font-family:Menlo,'DejaVu Sans Mono',consolas,'Courier New',monospace\"><span style=\"font-weight: bold\"> Non-trainable params: </span><span style=\"color: #00af00; text-decoration-color: #00af00\">0</span> (0.00 B)\n",
              "</pre>\n"
            ]
          },
          "metadata": {}
        },
        {
          "output_type": "stream",
          "name": "stdout",
          "text": [
            "Epoch 1/20\n",
            "\u001b[1m188/188\u001b[0m \u001b[32m━━━━━━━━━━━━━━━━━━━━\u001b[0m\u001b[37m\u001b[0m \u001b[1m79s\u001b[0m 318ms/step - accuracy: 0.5127 - loss: 5.2826 - val_accuracy: 0.5275 - val_loss: 3.9185\n",
            "Epoch 2/20\n",
            "\u001b[1m188/188\u001b[0m \u001b[32m━━━━━━━━━━━━━━━━━━━━\u001b[0m\u001b[37m\u001b[0m \u001b[1m53s\u001b[0m 232ms/step - accuracy: 0.5285 - loss: 3.8755 - val_accuracy: 0.5275 - val_loss: 3.9383\n",
            "Epoch 3/20\n",
            "\u001b[1m188/188\u001b[0m \u001b[32m━━━━━━━━━━━━━━━━━━━━\u001b[0m\u001b[37m\u001b[0m \u001b[1m43s\u001b[0m 229ms/step - accuracy: 0.5283 - loss: 3.8345 - val_accuracy: 0.5275 - val_loss: 3.9516\n",
            "Epoch 4/20\n",
            "\u001b[1m188/188\u001b[0m \u001b[32m━━━━━━━━━━━━━━━━━━━━\u001b[0m\u001b[37m\u001b[0m \u001b[1m43s\u001b[0m 229ms/step - accuracy: 0.5288 - loss: 3.8202 - val_accuracy: 0.5275 - val_loss: 3.9600\n",
            "Epoch 5/20\n",
            "\u001b[1m188/188\u001b[0m \u001b[32m━━━━━━━━━━━━━━━━━━━━\u001b[0m\u001b[37m\u001b[0m \u001b[1m81s\u001b[0m 222ms/step - accuracy: 0.5269 - loss: 3.8315 - val_accuracy: 0.5275 - val_loss: 3.9682\n",
            "Epoch 6/20\n",
            "\u001b[1m188/188\u001b[0m \u001b[32m━━━━━━━━━━━━━━━━━━━━\u001b[0m\u001b[37m\u001b[0m \u001b[1m43s\u001b[0m 228ms/step - accuracy: 0.5292 - loss: 3.8136 - val_accuracy: 0.5275 - val_loss: 3.9735\n",
            "Epoch 7/20\n",
            "\u001b[1m188/188\u001b[0m \u001b[32m━━━━━━━━━━━━━━━━━━━━\u001b[0m\u001b[37m\u001b[0m \u001b[1m80s\u001b[0m 219ms/step - accuracy: 0.5284 - loss: 3.8198 - val_accuracy: 0.5275 - val_loss: 3.9800\n",
            "Epoch 8/20\n",
            "\u001b[1m188/188\u001b[0m \u001b[32m━━━━━━━━━━━━━━━━━━━━\u001b[0m\u001b[37m\u001b[0m \u001b[1m84s\u001b[0m 232ms/step - accuracy: 0.5277 - loss: 3.8155 - val_accuracy: 0.5275 - val_loss: 3.9812\n",
            "Epoch 9/20\n",
            "\u001b[1m188/188\u001b[0m \u001b[32m━━━━━━━━━━━━━━━━━━━━\u001b[0m\u001b[37m\u001b[0m \u001b[1m80s\u001b[0m 220ms/step - accuracy: 0.5290 - loss: 3.8051 - val_accuracy: 0.5275 - val_loss: 3.9814\n",
            "Epoch 10/20\n",
            "\u001b[1m188/188\u001b[0m \u001b[32m━━━━━━━━━━━━━━━━━━━━\u001b[0m\u001b[37m\u001b[0m \u001b[1m84s\u001b[0m 233ms/step - accuracy: 0.5282 - loss: 3.7956 - val_accuracy: 0.5275 - val_loss: 3.9604\n",
            "Epoch 11/20\n",
            "\u001b[1m188/188\u001b[0m \u001b[32m━━━━━━━━━━━━━━━━━━━━\u001b[0m\u001b[37m\u001b[0m \u001b[1m82s\u001b[0m 231ms/step - accuracy: 0.5292 - loss: 3.7562 - val_accuracy: 0.5275 - val_loss: 3.9608\n",
            "Epoch 12/20\n",
            "\u001b[1m188/188\u001b[0m \u001b[32m━━━━━━━━━━━━━━━━━━━━\u001b[0m\u001b[37m\u001b[0m \u001b[1m43s\u001b[0m 228ms/step - accuracy: 0.5281 - loss: 3.7513 - val_accuracy: 0.5275 - val_loss: 3.9597\n",
            "Epoch 13/20\n",
            "\u001b[1m188/188\u001b[0m \u001b[32m━━━━━━━━━━━━━━━━━━━━\u001b[0m\u001b[37m\u001b[0m \u001b[1m82s\u001b[0m 229ms/step - accuracy: 0.5291 - loss: 3.7329 - val_accuracy: 0.5275 - val_loss: 3.9606\n",
            "Epoch 14/20\n",
            "\u001b[1m188/188\u001b[0m \u001b[32m━━━━━━━━━━━━━━━━━━━━\u001b[0m\u001b[37m\u001b[0m \u001b[1m80s\u001b[0m 217ms/step - accuracy: 0.5283 - loss: 3.7312 - val_accuracy: 0.5275 - val_loss: 3.9581\n",
            "Epoch 15/20\n",
            "\u001b[1m188/188\u001b[0m \u001b[32m━━━━━━━━━━━━━━━━━━━━\u001b[0m\u001b[37m\u001b[0m \u001b[1m42s\u001b[0m 223ms/step - accuracy: 0.5280 - loss: 3.7188 - val_accuracy: 0.5275 - val_loss: 3.9553\n",
            "Epoch 16/20\n",
            "\u001b[1m188/188\u001b[0m \u001b[32m━━━━━━━━━━━━━━━━━━━━\u001b[0m\u001b[37m\u001b[0m \u001b[1m82s\u001b[0m 225ms/step - accuracy: 0.5274 - loss: 3.6979 - val_accuracy: 0.5275 - val_loss: 3.9486\n",
            "Epoch 17/20\n",
            "\u001b[1m188/188\u001b[0m \u001b[32m━━━━━━━━━━━━━━━━━━━━\u001b[0m\u001b[37m\u001b[0m \u001b[1m82s\u001b[0m 226ms/step - accuracy: 0.5292 - loss: 3.6702 - val_accuracy: 0.5275 - val_loss: 3.9494\n",
            "Epoch 18/20\n",
            "\u001b[1m188/188\u001b[0m \u001b[32m━━━━━━━━━━━━━━━━━━━━\u001b[0m\u001b[37m\u001b[0m \u001b[1m82s\u001b[0m 227ms/step - accuracy: 0.5281 - loss: 3.6548 - val_accuracy: 0.5275 - val_loss: 3.9529\n",
            "Epoch 19/20\n",
            "\u001b[1m188/188\u001b[0m \u001b[32m━━━━━━━━━━━━━━━━━━━━\u001b[0m\u001b[37m\u001b[0m \u001b[1m82s\u001b[0m 226ms/step - accuracy: 0.5291 - loss: 3.6404 - val_accuracy: 0.5276 - val_loss: 3.9571\n",
            "Epoch 20/20\n",
            "\u001b[1m188/188\u001b[0m \u001b[32m━━━━━━━━━━━━━━━━━━━━\u001b[0m\u001b[37m\u001b[0m \u001b[1m82s\u001b[0m 226ms/step - accuracy: 0.5291 - loss: 3.6272 - val_accuracy: 0.5275 - val_loss: 3.9662\n"
          ]
        },
        {
          "output_type": "execute_result",
          "data": {
            "text/plain": [
              "<keras.src.callbacks.history.History at 0x7e5a2a35cd10>"
            ]
          },
          "metadata": {},
          "execution_count": 9
        }
      ]
    },
    {
      "cell_type": "code",
      "source": [
        "import tensorflow as tf\n",
        "from tensorflow.keras.layers import Input, LSTM, Dense, Embedding, Attention, Concatenate\n",
        "from tensorflow.keras.models import Model\n",
        "from tensorflow.keras.optimizers import Adam\n",
        "# Assuming other necessary imports like numpy are already present\n",
        "\n",
        "# --- Model Definition: Encoder-Decoder with Attention ---\n",
        "\n",
        "# Encoder\n",
        "encoder_inputs = Input(shape=(max_text_len,), name='encoder_inputs')\n",
        "# Ensure embedding_dim and vocab_size are defined earlier in your notebook\n",
        "enc_emb = Embedding(vocab_size, embedding_dim, name='encoder_embedding')(encoder_inputs)\n",
        "# Encoder LSTM outputs sequences for attention and states for decoder initialization\n",
        "# Use lstm_units here as defined in your code\n",
        "encoder_lstm = LSTM(lstm_units, return_sequences=True, return_state=True, name='encoder_lstm')\n",
        "encoder_outputs, state_h, state_c = encoder_lstm(enc_emb)\n",
        "encoder_states = [state_h, state_c]\n",
        "\n",
        "# Decoder\n",
        "# Decoder input is the target sequence shifted by one position\n",
        "decoder_inputs = Input(shape=(max_title_len - 1,), name='decoder_inputs')\n",
        "# Ensure max_title_len is defined earlier\n",
        "# Decoder embedding layer\n",
        "# Use the same embedding_dim and vocab_size\n",
        "dec_emb_layer = Embedding(vocab_size, embedding_dim, name='decoder_embedding')\n",
        "dec_emb = dec_emb_layer(decoder_inputs)\n",
        "\n",
        "# Decoder LSTM, returns sequences for attention and states for inference\n",
        "# Use lstm_units here as defined in your code\n",
        "decoder_lstm = LSTM(lstm_units, return_sequences=True, return_state=True, name='decoder_lstm')\n",
        "decoder_outputs, _, _ = decoder_lstm(dec_emb, initial_state=encoder_states)\n",
        "\n",
        "# Attention Layer\n",
        "# Computes attention weights and applies them\n",
        "attention_layer = Attention(name='attention_layer')\n",
        "attention_output = attention_layer([decoder_outputs, encoder_outputs])\n",
        "\n",
        "# Concatenate decoder outputs and attention output\n",
        "decoder_concat_input = Concatenate(axis=-1, name='concat_layer')([decoder_outputs, attention_output])\n",
        "\n",
        "# Dense layer to predict the next token\n",
        "# Use vocab_size for the output layer size\n",
        "decoder_dense = Dense(vocab_size, activation='softmax', name='decoder_output_dense')\n",
        "final_decoder_outputs = decoder_dense(decoder_concat_input)\n",
        "\n",
        "# Define the final model\n",
        "model_with_attention = Model([encoder_inputs, decoder_inputs], final_decoder_outputs)\n",
        "\n",
        "# Compile the model\n",
        "# Using Adam optimizer and sparse categorical crossentropy loss\n",
        "model_with_attention.compile(optimizer='adam', loss='sparse_categorical_crossentropy', metrics=['accuracy'])\n",
        "\n",
        "# Print model summary\n",
        "print(\"--- Model with Attention Summary ---\")\n",
        "model_with_attention.summary()"
      ],
      "metadata": {
        "colab": {
          "base_uri": "https://localhost:8080/",
          "height": 626
        },
        "id": "aYkv-X-67z4O",
        "outputId": "262472d0-43b2-452e-ec8b-52f10069f928"
      },
      "execution_count": 10,
      "outputs": [
        {
          "output_type": "stream",
          "name": "stdout",
          "text": [
            "--- Model with Attention Summary ---\n"
          ]
        },
        {
          "output_type": "display_data",
          "data": {
            "text/plain": [
              "\u001b[1mModel: \"functional_4\"\u001b[0m\n"
            ],
            "text/html": [
              "<pre style=\"white-space:pre;overflow-x:auto;line-height:normal;font-family:Menlo,'DejaVu Sans Mono',consolas,'Courier New',monospace\"><span style=\"font-weight: bold\">Model: \"functional_4\"</span>\n",
              "</pre>\n"
            ]
          },
          "metadata": {}
        },
        {
          "output_type": "display_data",
          "data": {
            "text/plain": [
              "┏━━━━━━━━━━━━━━━━━━━━━┳━━━━━━━━━━━━━━━━━━━┳━━━━━━━━━━━━┳━━━━━━━━━━━━━━━━━━━┓\n",
              "┃\u001b[1m \u001b[0m\u001b[1mLayer (type)       \u001b[0m\u001b[1m \u001b[0m┃\u001b[1m \u001b[0m\u001b[1mOutput Shape     \u001b[0m\u001b[1m \u001b[0m┃\u001b[1m \u001b[0m\u001b[1m   Param #\u001b[0m\u001b[1m \u001b[0m┃\u001b[1m \u001b[0m\u001b[1mConnected to     \u001b[0m\u001b[1m \u001b[0m┃\n",
              "┡━━━━━━━━━━━━━━━━━━━━━╇━━━━━━━━━━━━━━━━━━━╇━━━━━━━━━━━━╇━━━━━━━━━━━━━━━━━━━┩\n",
              "│ encoder_inputs      │ (\u001b[38;5;45mNone\u001b[0m, \u001b[38;5;34m400\u001b[0m)       │          \u001b[38;5;34m0\u001b[0m │ -                 │\n",
              "│ (\u001b[38;5;33mInputLayer\u001b[0m)        │                   │            │                   │\n",
              "├─────────────────────┼───────────────────┼────────────┼───────────────────┤\n",
              "│ decoder_inputs      │ (\u001b[38;5;45mNone\u001b[0m, \u001b[38;5;34m19\u001b[0m)        │          \u001b[38;5;34m0\u001b[0m │ -                 │\n",
              "│ (\u001b[38;5;33mInputLayer\u001b[0m)        │                   │            │                   │\n",
              "├─────────────────────┼───────────────────┼────────────┼───────────────────┤\n",
              "│ encoder_embedding   │ (\u001b[38;5;45mNone\u001b[0m, \u001b[38;5;34m400\u001b[0m, \u001b[38;5;34m256\u001b[0m)  │  \u001b[38;5;34m5,120,000\u001b[0m │ encoder_inputs[\u001b[38;5;34m0\u001b[0m… │\n",
              "│ (\u001b[38;5;33mEmbedding\u001b[0m)         │                   │            │                   │\n",
              "├─────────────────────┼───────────────────┼────────────┼───────────────────┤\n",
              "│ decoder_embedding   │ (\u001b[38;5;45mNone\u001b[0m, \u001b[38;5;34m19\u001b[0m, \u001b[38;5;34m256\u001b[0m)   │  \u001b[38;5;34m5,120,000\u001b[0m │ decoder_inputs[\u001b[38;5;34m0\u001b[0m… │\n",
              "│ (\u001b[38;5;33mEmbedding\u001b[0m)         │                   │            │                   │\n",
              "├─────────────────────┼───────────────────┼────────────┼───────────────────┤\n",
              "│ encoder_lstm (\u001b[38;5;33mLSTM\u001b[0m) │ [(\u001b[38;5;45mNone\u001b[0m, \u001b[38;5;34m400\u001b[0m,      │  \u001b[38;5;34m1,574,912\u001b[0m │ encoder_embeddin… │\n",
              "│                     │ \u001b[38;5;34m512\u001b[0m), (\u001b[38;5;45mNone\u001b[0m,      │            │                   │\n",
              "│                     │ \u001b[38;5;34m512\u001b[0m), (\u001b[38;5;45mNone\u001b[0m,      │            │                   │\n",
              "│                     │ \u001b[38;5;34m512\u001b[0m)]             │            │                   │\n",
              "├─────────────────────┼───────────────────┼────────────┼───────────────────┤\n",
              "│ decoder_lstm (\u001b[38;5;33mLSTM\u001b[0m) │ [(\u001b[38;5;45mNone\u001b[0m, \u001b[38;5;34m19\u001b[0m, \u001b[38;5;34m512\u001b[0m), │  \u001b[38;5;34m1,574,912\u001b[0m │ decoder_embeddin… │\n",
              "│                     │ (\u001b[38;5;45mNone\u001b[0m, \u001b[38;5;34m512\u001b[0m),      │            │ encoder_lstm[\u001b[38;5;34m0\u001b[0m][\u001b[38;5;34m…\u001b[0m │\n",
              "│                     │ (\u001b[38;5;45mNone\u001b[0m, \u001b[38;5;34m512\u001b[0m)]      │            │ encoder_lstm[\u001b[38;5;34m0\u001b[0m][\u001b[38;5;34m…\u001b[0m │\n",
              "├─────────────────────┼───────────────────┼────────────┼───────────────────┤\n",
              "│ attention_layer     │ (\u001b[38;5;45mNone\u001b[0m, \u001b[38;5;34m19\u001b[0m, \u001b[38;5;34m512\u001b[0m)   │          \u001b[38;5;34m0\u001b[0m │ decoder_lstm[\u001b[38;5;34m0\u001b[0m][\u001b[38;5;34m…\u001b[0m │\n",
              "│ (\u001b[38;5;33mAttention\u001b[0m)         │                   │            │ encoder_lstm[\u001b[38;5;34m0\u001b[0m][\u001b[38;5;34m…\u001b[0m │\n",
              "├─────────────────────┼───────────────────┼────────────┼───────────────────┤\n",
              "│ concat_layer        │ (\u001b[38;5;45mNone\u001b[0m, \u001b[38;5;34m19\u001b[0m, \u001b[38;5;34m1024\u001b[0m)  │          \u001b[38;5;34m0\u001b[0m │ decoder_lstm[\u001b[38;5;34m0\u001b[0m][\u001b[38;5;34m…\u001b[0m │\n",
              "│ (\u001b[38;5;33mConcatenate\u001b[0m)       │                   │            │ attention_layer[\u001b[38;5;34m…\u001b[0m │\n",
              "├─────────────────────┼───────────────────┼────────────┼───────────────────┤\n",
              "│ decoder_output_den… │ (\u001b[38;5;45mNone\u001b[0m, \u001b[38;5;34m19\u001b[0m, \u001b[38;5;34m20000\u001b[0m) │ \u001b[38;5;34m20,500,000\u001b[0m │ concat_layer[\u001b[38;5;34m0\u001b[0m][\u001b[38;5;34m…\u001b[0m │\n",
              "│ (\u001b[38;5;33mDense\u001b[0m)             │                   │            │                   │\n",
              "└─────────────────────┴───────────────────┴────────────┴───────────────────┘\n"
            ],
            "text/html": [
              "<pre style=\"white-space:pre;overflow-x:auto;line-height:normal;font-family:Menlo,'DejaVu Sans Mono',consolas,'Courier New',monospace\">┏━━━━━━━━━━━━━━━━━━━━━┳━━━━━━━━━━━━━━━━━━━┳━━━━━━━━━━━━┳━━━━━━━━━━━━━━━━━━━┓\n",
              "┃<span style=\"font-weight: bold\"> Layer (type)        </span>┃<span style=\"font-weight: bold\"> Output Shape      </span>┃<span style=\"font-weight: bold\">    Param # </span>┃<span style=\"font-weight: bold\"> Connected to      </span>┃\n",
              "┡━━━━━━━━━━━━━━━━━━━━━╇━━━━━━━━━━━━━━━━━━━╇━━━━━━━━━━━━╇━━━━━━━━━━━━━━━━━━━┩\n",
              "│ encoder_inputs      │ (<span style=\"color: #00d7ff; text-decoration-color: #00d7ff\">None</span>, <span style=\"color: #00af00; text-decoration-color: #00af00\">400</span>)       │          <span style=\"color: #00af00; text-decoration-color: #00af00\">0</span> │ -                 │\n",
              "│ (<span style=\"color: #0087ff; text-decoration-color: #0087ff\">InputLayer</span>)        │                   │            │                   │\n",
              "├─────────────────────┼───────────────────┼────────────┼───────────────────┤\n",
              "│ decoder_inputs      │ (<span style=\"color: #00d7ff; text-decoration-color: #00d7ff\">None</span>, <span style=\"color: #00af00; text-decoration-color: #00af00\">19</span>)        │          <span style=\"color: #00af00; text-decoration-color: #00af00\">0</span> │ -                 │\n",
              "│ (<span style=\"color: #0087ff; text-decoration-color: #0087ff\">InputLayer</span>)        │                   │            │                   │\n",
              "├─────────────────────┼───────────────────┼────────────┼───────────────────┤\n",
              "│ encoder_embedding   │ (<span style=\"color: #00d7ff; text-decoration-color: #00d7ff\">None</span>, <span style=\"color: #00af00; text-decoration-color: #00af00\">400</span>, <span style=\"color: #00af00; text-decoration-color: #00af00\">256</span>)  │  <span style=\"color: #00af00; text-decoration-color: #00af00\">5,120,000</span> │ encoder_inputs[<span style=\"color: #00af00; text-decoration-color: #00af00\">0</span>… │\n",
              "│ (<span style=\"color: #0087ff; text-decoration-color: #0087ff\">Embedding</span>)         │                   │            │                   │\n",
              "├─────────────────────┼───────────────────┼────────────┼───────────────────┤\n",
              "│ decoder_embedding   │ (<span style=\"color: #00d7ff; text-decoration-color: #00d7ff\">None</span>, <span style=\"color: #00af00; text-decoration-color: #00af00\">19</span>, <span style=\"color: #00af00; text-decoration-color: #00af00\">256</span>)   │  <span style=\"color: #00af00; text-decoration-color: #00af00\">5,120,000</span> │ decoder_inputs[<span style=\"color: #00af00; text-decoration-color: #00af00\">0</span>… │\n",
              "│ (<span style=\"color: #0087ff; text-decoration-color: #0087ff\">Embedding</span>)         │                   │            │                   │\n",
              "├─────────────────────┼───────────────────┼────────────┼───────────────────┤\n",
              "│ encoder_lstm (<span style=\"color: #0087ff; text-decoration-color: #0087ff\">LSTM</span>) │ [(<span style=\"color: #00d7ff; text-decoration-color: #00d7ff\">None</span>, <span style=\"color: #00af00; text-decoration-color: #00af00\">400</span>,      │  <span style=\"color: #00af00; text-decoration-color: #00af00\">1,574,912</span> │ encoder_embeddin… │\n",
              "│                     │ <span style=\"color: #00af00; text-decoration-color: #00af00\">512</span>), (<span style=\"color: #00d7ff; text-decoration-color: #00d7ff\">None</span>,      │            │                   │\n",
              "│                     │ <span style=\"color: #00af00; text-decoration-color: #00af00\">512</span>), (<span style=\"color: #00d7ff; text-decoration-color: #00d7ff\">None</span>,      │            │                   │\n",
              "│                     │ <span style=\"color: #00af00; text-decoration-color: #00af00\">512</span>)]             │            │                   │\n",
              "├─────────────────────┼───────────────────┼────────────┼───────────────────┤\n",
              "│ decoder_lstm (<span style=\"color: #0087ff; text-decoration-color: #0087ff\">LSTM</span>) │ [(<span style=\"color: #00d7ff; text-decoration-color: #00d7ff\">None</span>, <span style=\"color: #00af00; text-decoration-color: #00af00\">19</span>, <span style=\"color: #00af00; text-decoration-color: #00af00\">512</span>), │  <span style=\"color: #00af00; text-decoration-color: #00af00\">1,574,912</span> │ decoder_embeddin… │\n",
              "│                     │ (<span style=\"color: #00d7ff; text-decoration-color: #00d7ff\">None</span>, <span style=\"color: #00af00; text-decoration-color: #00af00\">512</span>),      │            │ encoder_lstm[<span style=\"color: #00af00; text-decoration-color: #00af00\">0</span>][<span style=\"color: #00af00; text-decoration-color: #00af00\">…</span> │\n",
              "│                     │ (<span style=\"color: #00d7ff; text-decoration-color: #00d7ff\">None</span>, <span style=\"color: #00af00; text-decoration-color: #00af00\">512</span>)]      │            │ encoder_lstm[<span style=\"color: #00af00; text-decoration-color: #00af00\">0</span>][<span style=\"color: #00af00; text-decoration-color: #00af00\">…</span> │\n",
              "├─────────────────────┼───────────────────┼────────────┼───────────────────┤\n",
              "│ attention_layer     │ (<span style=\"color: #00d7ff; text-decoration-color: #00d7ff\">None</span>, <span style=\"color: #00af00; text-decoration-color: #00af00\">19</span>, <span style=\"color: #00af00; text-decoration-color: #00af00\">512</span>)   │          <span style=\"color: #00af00; text-decoration-color: #00af00\">0</span> │ decoder_lstm[<span style=\"color: #00af00; text-decoration-color: #00af00\">0</span>][<span style=\"color: #00af00; text-decoration-color: #00af00\">…</span> │\n",
              "│ (<span style=\"color: #0087ff; text-decoration-color: #0087ff\">Attention</span>)         │                   │            │ encoder_lstm[<span style=\"color: #00af00; text-decoration-color: #00af00\">0</span>][<span style=\"color: #00af00; text-decoration-color: #00af00\">…</span> │\n",
              "├─────────────────────┼───────────────────┼────────────┼───────────────────┤\n",
              "│ concat_layer        │ (<span style=\"color: #00d7ff; text-decoration-color: #00d7ff\">None</span>, <span style=\"color: #00af00; text-decoration-color: #00af00\">19</span>, <span style=\"color: #00af00; text-decoration-color: #00af00\">1024</span>)  │          <span style=\"color: #00af00; text-decoration-color: #00af00\">0</span> │ decoder_lstm[<span style=\"color: #00af00; text-decoration-color: #00af00\">0</span>][<span style=\"color: #00af00; text-decoration-color: #00af00\">…</span> │\n",
              "│ (<span style=\"color: #0087ff; text-decoration-color: #0087ff\">Concatenate</span>)       │                   │            │ attention_layer[<span style=\"color: #00af00; text-decoration-color: #00af00\">…</span> │\n",
              "├─────────────────────┼───────────────────┼────────────┼───────────────────┤\n",
              "│ decoder_output_den… │ (<span style=\"color: #00d7ff; text-decoration-color: #00d7ff\">None</span>, <span style=\"color: #00af00; text-decoration-color: #00af00\">19</span>, <span style=\"color: #00af00; text-decoration-color: #00af00\">20000</span>) │ <span style=\"color: #00af00; text-decoration-color: #00af00\">20,500,000</span> │ concat_layer[<span style=\"color: #00af00; text-decoration-color: #00af00\">0</span>][<span style=\"color: #00af00; text-decoration-color: #00af00\">…</span> │\n",
              "│ (<span style=\"color: #0087ff; text-decoration-color: #0087ff\">Dense</span>)             │                   │            │                   │\n",
              "└─────────────────────┴───────────────────┴────────────┴───────────────────┘\n",
              "</pre>\n"
            ]
          },
          "metadata": {}
        },
        {
          "output_type": "display_data",
          "data": {
            "text/plain": [
              "\u001b[1m Total params: \u001b[0m\u001b[38;5;34m33,889,824\u001b[0m (129.28 MB)\n"
            ],
            "text/html": [
              "<pre style=\"white-space:pre;overflow-x:auto;line-height:normal;font-family:Menlo,'DejaVu Sans Mono',consolas,'Courier New',monospace\"><span style=\"font-weight: bold\"> Total params: </span><span style=\"color: #00af00; text-decoration-color: #00af00\">33,889,824</span> (129.28 MB)\n",
              "</pre>\n"
            ]
          },
          "metadata": {}
        },
        {
          "output_type": "display_data",
          "data": {
            "text/plain": [
              "\u001b[1m Trainable params: \u001b[0m\u001b[38;5;34m33,889,824\u001b[0m (129.28 MB)\n"
            ],
            "text/html": [
              "<pre style=\"white-space:pre;overflow-x:auto;line-height:normal;font-family:Menlo,'DejaVu Sans Mono',consolas,'Courier New',monospace\"><span style=\"font-weight: bold\"> Trainable params: </span><span style=\"color: #00af00; text-decoration-color: #00af00\">33,889,824</span> (129.28 MB)\n",
              "</pre>\n"
            ]
          },
          "metadata": {}
        },
        {
          "output_type": "display_data",
          "data": {
            "text/plain": [
              "\u001b[1m Non-trainable params: \u001b[0m\u001b[38;5;34m0\u001b[0m (0.00 B)\n"
            ],
            "text/html": [
              "<pre style=\"white-space:pre;overflow-x:auto;line-height:normal;font-family:Menlo,'DejaVu Sans Mono',consolas,'Courier New',monospace\"><span style=\"font-weight: bold\"> Non-trainable params: </span><span style=\"color: #00af00; text-decoration-color: #00af00\">0</span> (0.00 B)\n",
              "</pre>\n"
            ]
          },
          "metadata": {}
        }
      ]
    },
    {
      "cell_type": "code",
      "source": [
        "model_with_attention.fit(\n",
        "    [train_text_seq, decoder_input_seq],\n",
        "    decoder_target_seq,\n",
        "    batch_size=64,\n",
        "    epochs=15,\n",
        "    validation_split=0.2\n",
        ")"
      ],
      "metadata": {
        "colab": {
          "base_uri": "https://localhost:8080/"
        },
        "id": "Vz6v26Ms72vl",
        "outputId": "08117b7d-5bdc-4fae-ba5b-ee41874349ea"
      },
      "execution_count": 11,
      "outputs": [
        {
          "output_type": "stream",
          "name": "stdout",
          "text": [
            "Epoch 1/15\n",
            "\u001b[1m188/188\u001b[0m \u001b[32m━━━━━━━━━━━━━━━━━━━━\u001b[0m\u001b[37m\u001b[0m \u001b[1m63s\u001b[0m 323ms/step - accuracy: 0.5189 - loss: 4.7317 - val_accuracy: 0.5433 - val_loss: 3.7524\n",
            "Epoch 2/15\n",
            "\u001b[1m188/188\u001b[0m \u001b[32m━━━━━━━━━━━━━━━━━━━━\u001b[0m\u001b[37m\u001b[0m \u001b[1m81s\u001b[0m 320ms/step - accuracy: 0.5470 - loss: 3.5872 - val_accuracy: 0.5513 - val_loss: 3.6335\n",
            "Epoch 3/15\n",
            "\u001b[1m188/188\u001b[0m \u001b[32m━━━━━━━━━━━━━━━━━━━━\u001b[0m\u001b[37m\u001b[0m \u001b[1m82s\u001b[0m 321ms/step - accuracy: 0.5541 - loss: 3.3779 - val_accuracy: 0.5564 - val_loss: 3.5502\n",
            "Epoch 4/15\n",
            "\u001b[1m188/188\u001b[0m \u001b[32m━━━━━━━━━━━━━━━━━━━━\u001b[0m\u001b[37m\u001b[0m \u001b[1m60s\u001b[0m 318ms/step - accuracy: 0.5649 - loss: 3.1280 - val_accuracy: 0.5649 - val_loss: 3.4761\n",
            "Epoch 5/15\n",
            "\u001b[1m188/188\u001b[0m \u001b[32m━━━━━━━━━━━━━━━━━━━━\u001b[0m\u001b[37m\u001b[0m \u001b[1m83s\u001b[0m 324ms/step - accuracy: 0.5785 - loss: 2.8685 - val_accuracy: 0.5730 - val_loss: 3.4050\n",
            "Epoch 6/15\n",
            "\u001b[1m188/188\u001b[0m \u001b[32m━━━━━━━━━━━━━━━━━━━━\u001b[0m\u001b[37m\u001b[0m \u001b[1m81s\u001b[0m 321ms/step - accuracy: 0.5922 - loss: 2.5752 - val_accuracy: 0.5738 - val_loss: 3.3848\n",
            "Epoch 7/15\n",
            "\u001b[1m188/188\u001b[0m \u001b[32m━━━━━━━━━━━━━━━━━━━━\u001b[0m\u001b[37m\u001b[0m \u001b[1m60s\u001b[0m 319ms/step - accuracy: 0.6084 - loss: 2.2993 - val_accuracy: 0.5796 - val_loss: 3.3981\n",
            "Epoch 8/15\n",
            "\u001b[1m188/188\u001b[0m \u001b[32m━━━━━━━━━━━━━━━━━━━━\u001b[0m\u001b[37m\u001b[0m \u001b[1m83s\u001b[0m 325ms/step - accuracy: 0.6315 - loss: 2.0527 - val_accuracy: 0.5811 - val_loss: 3.4177\n",
            "Epoch 9/15\n",
            "\u001b[1m188/188\u001b[0m \u001b[32m━━━━━━━━━━━━━━━━━━━━\u001b[0m\u001b[37m\u001b[0m \u001b[1m81s\u001b[0m 322ms/step - accuracy: 0.6667 - loss: 1.7979 - val_accuracy: 0.5831 - val_loss: 3.4595\n",
            "Epoch 10/15\n",
            "\u001b[1m188/188\u001b[0m \u001b[32m━━━━━━━━━━━━━━━━━━━━\u001b[0m\u001b[37m\u001b[0m \u001b[1m60s\u001b[0m 317ms/step - accuracy: 0.7002 - loss: 1.5692 - val_accuracy: 0.5824 - val_loss: 3.4963\n",
            "Epoch 11/15\n",
            "\u001b[1m188/188\u001b[0m \u001b[32m━━━━━━━━━━━━━━━━━━━━\u001b[0m\u001b[37m\u001b[0m \u001b[1m83s\u001b[0m 325ms/step - accuracy: 0.7342 - loss: 1.3568 - val_accuracy: 0.5834 - val_loss: 3.5431\n",
            "Epoch 12/15\n",
            "\u001b[1m188/188\u001b[0m \u001b[32m━━━━━━━━━━━━━━━━━━━━\u001b[0m\u001b[37m\u001b[0m \u001b[1m81s\u001b[0m 319ms/step - accuracy: 0.7657 - loss: 1.1786 - val_accuracy: 0.5850 - val_loss: 3.6088\n",
            "Epoch 13/15\n",
            "\u001b[1m188/188\u001b[0m \u001b[32m━━━━━━━━━━━━━━━━━━━━\u001b[0m\u001b[37m\u001b[0m \u001b[1m81s\u001b[0m 312ms/step - accuracy: 0.7933 - loss: 1.0277 - val_accuracy: 0.5857 - val_loss: 3.6691\n",
            "Epoch 14/15\n",
            "\u001b[1m188/188\u001b[0m \u001b[32m━━━━━━━━━━━━━━━━━━━━\u001b[0m\u001b[37m\u001b[0m \u001b[1m81s\u001b[0m 310ms/step - accuracy: 0.8204 - loss: 0.8852 - val_accuracy: 0.5846 - val_loss: 3.7262\n",
            "Epoch 15/15\n",
            "\u001b[1m188/188\u001b[0m \u001b[32m━━━━━━━━━━━━━━━━━━━━\u001b[0m\u001b[37m\u001b[0m \u001b[1m82s\u001b[0m 311ms/step - accuracy: 0.8468 - loss: 0.7624 - val_accuracy: 0.5856 - val_loss: 3.7756\n"
          ]
        },
        {
          "output_type": "execute_result",
          "data": {
            "text/plain": [
              "<keras.src.callbacks.history.History at 0x7e5a701b4290>"
            ]
          },
          "metadata": {},
          "execution_count": 11
        }
      ]
    },
    {
      "cell_type": "code",
      "source": [
        "test_df = pd.read_csv('/content/test.csv')\n",
        "\n",
        "# Extract texts and titles\n",
        "test_texts = test_df['text'].astype(str).tolist()\n",
        "test_titles = test_df['title'].astype(str).tolist()\n",
        "\n",
        "# Preprocess test data for both models\n",
        "test_text_seq = text_tokenizer.texts_to_sequences(test_texts)\n",
        "test_text_seq = pad_sequences(test_text_seq, maxlen=max_text_len, padding='post')\n",
        "\n",
        "# Prepare decoder input sequences for model_no_attention\n",
        "test_title_seq = title_tokenizer.texts_to_sequences(test_titles)\n",
        "test_title_seq = pad_sequences(test_title_seq, maxlen=max_title_len, padding='post')\n",
        "decoder_input_test_seq = test_title_seq[:, :-1]\n",
        "\n",
        "# Evaluate model_no_attention\n",
        "loss_no_att, acc_no_att = model_no_attention.evaluate([test_text_seq, decoder_input_test_seq], test_title_seq[:, 1:], verbose=0)\n",
        "print(f\"Model Without Attention - Loss: {loss_no_att}, Accuracy: {acc_no_att}\")\n",
        "\n",
        "# Prepare target sequences for model_self_attention\n",
        "test_title_seq_flat = np.array([seq[0] if len(seq) > 0 else 0 for seq in test_title_seq])\n",
        "\n",
        "# Evaluate model_self_attention\n",
        "# Evaluate model_transformer (renamed from model_self_attention)\n",
        "loss_self_att, acc_self_att = model_transformer.evaluate([test_text_seq, decoder_input_test_seq], test_title_seq[:, 1:], verbose=0) # Use model_transformer and correct input format\n",
        "print(f\"Model With Self-Attention - Loss: {loss_self_att}, Accuracy: {acc_self_att}\")\n",
        "\n",
        "\n",
        "# Evaluate model_with_attention\n",
        "loss_with_att, acc_with_att = model_with_attention.evaluate([test_text_seq, decoder_input_test_seq], test_title_seq[:, 1:], verbose=0)\n",
        "print(f\"Model With Attention - Loss: {loss_with_att}, Accuracy: {acc_with_att}\")"
      ],
      "metadata": {
        "colab": {
          "base_uri": "https://localhost:8080/"
        },
        "id": "NL-fkXPD5anf",
        "outputId": "cfa335cf-0abd-4b13-f7b0-dfa297542aec"
      },
      "execution_count": 9,
      "outputs": [
        {
          "output_type": "stream",
          "name": "stdout",
          "text": [
            "Model Without Attention - Loss: 2.8694217205047607, Accuracy: 0.7836257815361023\n",
            "Model With Self-Attention - Loss: 3.8176803588867188, Accuracy: 0.5321637988090515\n",
            "Model With Attention - Loss: 1.6158041954040527, Accuracy: 0.7426900267601013\n"
          ]
        }
      ]
    },
    {
      "cell_type": "code",
      "source": [
        "def generate_headline(text_input, model, max_title_len=20):\n",
        "    # Tokenize and pad the input text\n",
        "    seq = text_tokenizer.texts_to_sequences([text_input])\n",
        "    seq = pad_sequences(seq, maxlen=max_text_len, padding='post')\n",
        "\n",
        "    # Start the decoder with the <start> token\n",
        "    start_token = title_tokenizer.word_index.get('<start>', 1)  # Use 1 if <start> not defined\n",
        "    end_token = title_tokenizer.word_index.get('<end>', 2)      # Use 2 if <end> not defined\n",
        "    output_seq = [start_token]\n",
        "\n",
        "    for i in range(max_title_len - 1):\n",
        "        # Pad decoder input\n",
        "        dec_input = pad_sequences([output_seq], maxlen=max_title_len - 1, padding='post')\n",
        "        # Predict next word\n",
        "        preds = model.predict([seq, dec_input], verbose=0)\n",
        "        next_word_id = np.argmax(preds[0, i])\n",
        "        output_seq.append(next_word_id)\n",
        "\n",
        "        if next_word_id == end_token:\n",
        "            break\n",
        "\n",
        "    # Convert token IDs back to words\n",
        "    inverse_title_index = {v: k for k, v in title_tokenizer.word_index.items()}\n",
        "    words = [inverse_title_index.get(i, '') for i in output_seq if i not in [0, start_token, end_token]]\n",
        "    return ' '.join(words)\n",
        "\n",
        "# Example usage\n",
        "custom_text = \" U.S. President Donald Trump faces an uphill battle to overcome a federal judgeâ€™s temporary hold on his travel ban on seven mainly Muslim countries, but the outcome of a ruling on the executive orderâ€™s ultimate legality is less certain.  Any appeals of decisions by U.S. District Court Judge James Robart in Seattle face a regional court dominated by liberal-leaning judges who might not be sympathetic to Trumpâ€™s rationale for the ban, and a currently shorthanded Supreme Court split 4-4 between liberals and conservatives. The temporary restraining order Robart issued on Friday in Seattle, which applies nationwide, gives him time to consider the case in more detail, but also sends a signal that he is likely to impose a more permanent injunction.    The Trump administration has appealed that order. The San Francisco-based 9th U.S. Circuit Court of Appeals said late on Saturday that it would not decide whether to lift the judgeâ€™s ruling, as requested by the U.S. government, until it receives briefs from both sides, with the administrationâ€™s filing due on Monday. Appeals courts are generally leery of upending the status quo, which in this case - for now - is the suspension of the ban.  The upheaval prompted by the new Republican administrationâ€™s initial announcement of the ban on Jan. 27, with travelers detained at airports upon entering the country, would potentially be kickstarted again if Robartâ€™s stay was lifted. The appeals court might also take into account the fact that there are several other cases around the country challenging the ban. If it were to overturn the district courtâ€™s decision, another judge somewhere else in the United States could impose a new order, setting off a new cascade of court filings.  If the appeals court upholds the order, the administration could immediately ask the U.S. Supreme Court to intervene. But the high court is generally reluctant to get involved in cases at a preliminary stage, legal experts said. The high court is short one justice, as it has been for a year, leaving it split between liberals and conservatives. Any emergency request by the administration would need five votes to be granted, meaning at least one of the liberals would have to vote in favor.  â€œI think the courtâ€™s going to feel every reason to stay on the sidelines as long as possible,â€ said Steve Vladeck, a professor at the University of Texas School of Law. Trump last week nominated a conservative appeals court judge, Neil Gorsuch, to fill the vacancy, but he will not be sitting on the Supreme Court for at least two months. Gorsuchâ€™s vote, if he is confirmed by the U.S. Senate, could come into play if the case were to reach the court at a later stage of the litigation. Once the case proceeds past the injunction stage of the litigation and onto the merits of whether the order is legally sound, legal experts differ over how strong the governmentâ€™s case would be.  Richard Primus, a professor of constitutional law at the University of Michigan Law School, said the administration could struggle to convince courts that the ban was justified by national security concerns.  The Supreme Court has previously rejected the idea that the government does not need to offer a basis for its actions in the national security context, including the landmark 1971 Pentagon Papers case, in which the administration of President Richard Nixon tried unsuccessfully to prevent the press from publishing information about United States policy toward Vietnam. â€œThe governmentâ€™s argument so far in support of the order is pretty weak,â€ Primus said. Jonathan Adler, a professor at Case Western Reserve University School of Law, said the administration has legal precedent on its side, with the courts generally deferential to executive action on immigration.  However, he said it is unusual for the courts to be asked to endorse â€œa policy that appears to have been adopted in as kind of haphazard and arbitrary way as this one appears to have been.\"\n",
        "generated_headline = generate_headline(custom_text, model_with_attention)\n",
        "print(\"Generated Headline:\", generated_headline)\n"
      ],
      "metadata": {
        "colab": {
          "base_uri": "https://localhost:8080/"
        },
        "id": "HH1JPFA8BbG9",
        "outputId": "ab1e1d42-9a5e-4ffe-fc87-e2819e3bcbcc"
      },
      "execution_count": 19,
      "outputs": [
        {
          "output_type": "stream",
          "name": "stdout",
          "text": [
            "Generated Headline: faces uphill battle against trump supreme court nominee\n"
          ]
        }
      ]
    },
    {
      "cell_type": "code",
      "source": [
        "def generate_headline_no_attention(text_input, model, max_title_len=20):\n",
        "    # Tokenize and pad the input text\n",
        "    seq = text_tokenizer.texts_to_sequences([text_input])\n",
        "    seq = pad_sequences(seq, maxlen=max_text_len, padding='post')\n",
        "\n",
        "    # Start the decoder with the <start> token\n",
        "    start_token = title_tokenizer.word_index.get('<start>', 1)  # Use 1 if <start> not defined\n",
        "    end_token = title_tokenizer.word_index.get('<end>', 2)      # Use 2 if <end> not defined\n",
        "    output_seq = [start_token]\n",
        "\n",
        "    for i in range(max_title_len - 1):\n",
        "        # Pad decoder input\n",
        "        dec_input = pad_sequences([output_seq], maxlen=max_title_len - 1, padding='post')\n",
        "        # Predict next word\n",
        "        preds = model.predict([seq, dec_input], verbose=0)\n",
        "        next_word_id = np.argmax(preds[0, i])\n",
        "        output_seq.append(next_word_id)\n",
        "\n",
        "        if next_word_id == end_token:\n",
        "            break\n",
        "\n",
        "    # Convert token IDs back to words\n",
        "    inverse_title_index = {v: k for k, v in title_tokenizer.word_index.items()}\n",
        "    words = [inverse_title_index.get(i, '') for i in output_seq if i not in [0, start_token, end_token]]\n",
        "    return ' '.join(words)\n",
        "\n",
        "# Example usage\n",
        "custom_text = \"a usfunded famine survey said on tuesday that thousands of yemenis could die daily if a saudiled military coalition does not lift its blockade on the country s key ports the warning came a day after the international committee of the red cross icrc said  million people in yemen s crowded cities had no access to clean water raising the risk that a cholera epidemic will spread using the internationally recognized ipc  scale for classifying food security the famine early warning systems network fews net said that even before the current blockade  million people were in  crisis  ipc phase  or worse  therefore a prolonged closure of key ports risks an unprecedented deterioration in food security to famine ipc phase  across large areas of the country  it said  it said famine is likely in many areas within three or four months if ports remain closed with some less accessible areas at even greater risk in such a scenario shortages of food and fuel would drive up prices and a lack of medical supplies would exacerbate lifethreatening diseases  thousands of deaths would occur each day due to the lack of food and disease outbreaks  said fews net which is funded by the us agency for international development  famine remained likely even if the southern port of aden is open its report said adding that all yemeni ports should be reopened to essential imports the united nations has said the saudiled coalition must allow aid in through hodeidah port controlled by the houthis the saudis  enemies in the war in yemen  un humanitarian agencies have issued dire warnings about the impact of the blockade although un officials have declined to directly criticize saudi arabia jan egeland head of the norwegian refugee council and a former un aid chief was blunt in his criticism however  us uk  other allies of saudi has only weeks to avoid being complicit in a famine of biblical proportions lift the blockade now  he wrote in a tweet   last year saudi arabia was accused by then un secretary general ban kimoon of exerting  unacceptable  undue pressure to keep itself off a blacklist of countries that kill children in conflict after sources told reuters that riyadh had threatened to cut some un funding saudi arabia denied this.\"\n",
        "generated_headline = generate_headline_no_attention(custom_text, model_no_attention)  # Pass model_no_attention here\n",
        "print(\"Generated Headline:\", generated_headline)"
      ],
      "metadata": {
        "colab": {
          "base_uri": "https://localhost:8080/"
        },
        "id": "oJACJIW5ozr6",
        "outputId": "a0de1cfc-84ad-48b3-e603-9fffad057599"
      },
      "execution_count": 40,
      "outputs": [
        {
          "output_type": "stream",
          "name": "stdout",
          "text": [
            "Generated Headline: humanitarian situation falls under return\n"
          ]
        }
      ]
    },
    {
      "source": [
        "!pip install nltk rouge-score"
      ],
      "cell_type": "code",
      "metadata": {
        "colab": {
          "base_uri": "https://localhost:8080/"
        },
        "id": "Hcn25uD531Q4",
        "outputId": "881476a6-49ea-49af-d8bc-25a7b16b97d0"
      },
      "execution_count": 45,
      "outputs": [
        {
          "output_type": "stream",
          "name": "stdout",
          "text": [
            "Requirement already satisfied: nltk in /usr/local/lib/python3.11/dist-packages (3.9.1)\n",
            "Requirement already satisfied: rouge-score in /usr/local/lib/python3.11/dist-packages (0.1.2)\n",
            "Requirement already satisfied: click in /usr/local/lib/python3.11/dist-packages (from nltk) (8.1.8)\n",
            "Requirement already satisfied: joblib in /usr/local/lib/python3.11/dist-packages (from nltk) (1.4.2)\n",
            "Requirement already satisfied: regex>=2021.8.3 in /usr/local/lib/python3.11/dist-packages (from nltk) (2024.11.6)\n",
            "Requirement already satisfied: tqdm in /usr/local/lib/python3.11/dist-packages (from nltk) (4.67.1)\n",
            "Requirement already satisfied: absl-py in /usr/local/lib/python3.11/dist-packages (from rouge-score) (1.4.0)\n",
            "Requirement already satisfied: numpy in /usr/local/lib/python3.11/dist-packages (from rouge-score) (2.0.2)\n",
            "Requirement already satisfied: six>=1.14.0 in /usr/local/lib/python3.11/dist-packages (from rouge-score) (1.17.0)\n"
          ]
        }
      ]
    },
    {
      "source": [
        "import nltk\n",
        "from nltk.translate.bleu_score import sentence_bleu\n",
        "from rouge_score import rouge_scorer"
      ],
      "cell_type": "code",
      "metadata": {
        "id": "la9mctmv32AK"
      },
      "execution_count": 46,
      "outputs": []
    },
    {
      "source": [
        "def calculate_bleu(model, inputs, targets, tokenizer):\n",
        "    predictions = model.predict(inputs)\n",
        "    predicted_ids = np.argmax(predictions, axis=-1)\n",
        "    references = [[tokenizer.index_word.get(id, '') for id in target if id != 0] for target in targets]\n",
        "    hypotheses = [[tokenizer.index_word.get(id, '') for id in pred if id != 0] for pred in predicted_ids]\n",
        "    scores = [sentence_bleu([ref], hyp) for ref, hyp in zip(references, hypotheses)]\n",
        "    return np.mean(scores)\n",
        "\n",
        "def calculate_rouge(model, inputs, targets, tokenizer):\n",
        "    scorer = rouge_scorer.RougeScorer(['rouge1'], use_stemmer=True)\n",
        "    predictions = model.predict(inputs)\n",
        "    predicted_ids = np.argmax(predictions, axis=-1)\n",
        "    references = [' '.join([tokenizer.index_word.get(id, '') for id in target if id != 0]) for target in targets]\n",
        "    hypotheses = [' '.join([tokenizer.index_word.get(id, '') for id in pred if id != 0]) for pred in predicted_ids]\n",
        "    scores = [scorer.score(ref, hyp)['rouge1'].fmeasure for ref, hyp in zip(references, hypotheses)]\n",
        "    return np.mean(scores)"
      ],
      "cell_type": "code",
      "metadata": {
        "id": "JOghd0iI33aq"
      },
      "execution_count": 48,
      "outputs": []
    },
    {
      "source": [
        "# For model_no_attention\n",
        "bleu_score_no_attention = calculate_bleu(model_no_attention, [test_text_seq, test_title_seq[:, :-1]], test_title_seq[:, 1:], title_tokenizer)\n",
        "rouge_score_no_attention = calculate_rouge(model_no_attention, [test_text_seq, test_title_seq[:, :-1]], test_title_seq[:, 1:], title_tokenizer)\n",
        "\n",
        "# For model_with_attention\n",
        "bleu_score_with_attention = calculate_bleu(model_with_attention, [test_text_seq, test_title_seq[:, :-1]], test_title_seq[:, 1:], title_tokenizer)\n",
        "rouge_score_with_attention = calculate_rouge(model_with_attention, [test_text_seq, test_title_seq[:, :-1]], test_title_seq[:, 1:], title_tokenizer)\n",
        "\n",
        "print(f\"Model Without Attention - BLEU: {bleu_score_no_attention:.4f}, ROUGE-1: {rouge_score_no_attention:.4f}\")\n",
        "print(f\"Model With Attention - BLEU: {bleu_score_with_attention:.4f}, ROUGE-1: {rouge_score_with_attention:.4f}\")"
      ],
      "cell_type": "code",
      "metadata": {
        "colab": {
          "base_uri": "https://localhost:8080/"
        },
        "id": "qYC2Gp1-36a2",
        "outputId": "6c1fa3a1-7ab4-4f03-a742-8ffc042d2922"
      },
      "execution_count": 50,
      "outputs": [
        {
          "output_type": "stream",
          "name": "stdout",
          "text": [
            "\u001b[1m1/1\u001b[0m \u001b[32m━━━━━━━━━━━━━━━━━━━━\u001b[0m\u001b[37m\u001b[0m \u001b[1m0s\u001b[0m 63ms/step\n",
            "\u001b[1m1/1\u001b[0m \u001b[32m━━━━━━━━━━━━━━━━━━━━\u001b[0m\u001b[37m\u001b[0m \u001b[1m0s\u001b[0m 66ms/step\n",
            "\u001b[1m1/1\u001b[0m \u001b[32m━━━━━━━━━━━━━━━━━━━━\u001b[0m\u001b[37m\u001b[0m \u001b[1m0s\u001b[0m 89ms/step\n",
            "\u001b[1m1/1\u001b[0m \u001b[32m━━━━━━━━━━━━━━━━━━━━\u001b[0m\u001b[37m\u001b[0m \u001b[1m0s\u001b[0m 73ms/step\n",
            "Model Without Attention - BLEU: 0.3426, ROUGE-1: 0.6452\n",
            "Model With Attention - BLEU: 0.1242, ROUGE-1: 0.4573\n"
          ]
        }
      ]
    },
    {
      "source": [
        "import matplotlib.pyplot as plt\n",
        "import numpy as np\n",
        "\n",
        "# Assuming you have already calculated the scores as mentioned in the previous response\n",
        "\n",
        "models = ['Without Attention', 'With Attention']\n",
        "bleu_scores = [bleu_score_no_attention, bleu_score_with_attention]\n",
        "rouge_scores = [rouge_score_no_attention, rouge_score_with_attention]\n",
        "\n",
        "x = np.arange(len(models))  # the label locations\n",
        "width = 0.35  # the width of the bars\n",
        "\n",
        "fig, ax = plt.subplots()\n",
        "rects1 = ax.bar(x - width/2, bleu_scores, width, label='BLEU')\n",
        "rects2 = ax.bar(x + width/2, rouge_scores, width, label='ROUGE-1')\n",
        "\n",
        "# Add some text for labels, title and custom x-axis tick labels, etc.\n",
        "ax.set_ylabel('Scores')\n",
        "ax.set_title('BLEU and ROUGE-1 Scores for Models')\n",
        "ax.set_xticks(x)\n",
        "ax.set_xticklabels(models)\n",
        "ax.legend()\n",
        "\n",
        "ax.bar_label(rects1, labels=[f'{score:.4f}' for score in bleu_scores], label_type='center')\n",
        "ax.bar_label(rects2, labels=[f'{score:.4f}' for score in rouge_scores], label_type='center')\n",
        "fig.tight_layout()\n",
        "\n",
        "plt.show()"
      ],
      "cell_type": "code",
      "metadata": {
        "colab": {
          "base_uri": "https://localhost:8080/",
          "height": 487
        },
        "id": "Gu4h48j44IHB",
        "outputId": "ea7ddc6e-c291-4c6a-e30d-1308e5d85085"
      },
      "execution_count": 53,
      "outputs": [
        {
          "output_type": "display_data",
          "data": {
            "text/plain": [
              "<Figure size 640x480 with 1 Axes>"
            ],
            "image/png": "[encoded data removed]"
          },
          "metadata": {}
        }
      ]
    },
    {
      "cell_type": "code",
      "source": [
        "import matplotlib.pyplot as plt\n",
        "\n",
        "# Training times in seconds\n",
        "without_attention_time = 1196.70\n",
        "\n",
        "# From the log, these are the per-epoch times for \"With Attention\"\n",
        "with_attention_times = [63, 81, 82, 60, 83, 81, 60, 83, 81, 60, 83, 81, 81, 81, 82]\n",
        "with_attention_total = sum(with_attention_times)\n",
        "\n",
        "# Plotting\n",
        "models = ['Without Attention', 'With Attention']\n",
        "times = [without_attention_time, with_attention_total]\n",
        "\n",
        "plt.figure(figsize=(8, 6))\n",
        "bars = plt.bar(models, times, color=['skyblue', 'lightcoral'])\n",
        "plt.ylabel('Training Time (seconds)')\n",
        "plt.title('Training Time Comparison: With vs Without Attention')\n",
        "\n",
        "# Add value labels on bars\n",
        "for bar in bars:\n",
        "    yval = bar.get_height()\n",
        "    plt.text(bar.get_x() + bar.get_width()/2, yval + 10, f'{yval:.2f}', ha='center', va='bottom')\n",
        "\n",
        "plt.tight_layout()\n",
        "plt.show()\n"
      ],
      "metadata": {
        "id": "xxbBsBFD5H4J"
      },
      "execution_count": null,
      "outputs": []
    }
  ]
}